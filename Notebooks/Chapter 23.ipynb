{
 "cells": [
  {
   "cell_type": "markdown",
   "metadata": {},
   "source": [
    "## Chapter 23 - Ordinal Predicted Variable"
   ]
  },
  {
   "cell_type": "markdown",
   "metadata": {},
   "source": [
    "- [23.2 - The Case of a Single Group](#23.2---The-Case-of-a-Single-Group)\n",
    "- [23.3 - The Case of Two Groups](#23.3---The-Case-of-Two-Groups)\n",
    "- [23.4 - The Case of Metric Predictors](#23.4---The-Case-of-Metric-Predictors)\n",
    " - [One Predictor](#One-Predictor)\n",
    " - [Two Predictors](#Two-Predictors)"
   ]
  },
  {
   "cell_type": "code",
   "execution_count": 1,
   "metadata": {},
   "outputs": [
    {
     "name": "stderr",
     "output_type": "stream",
     "text": [
      "WARNING (theano.tensor.blas): Using NumPy C-API based implementation for BLAS functions.\n"
     ]
    }
   ],
   "source": [
    "# %load std_ipython_import.txt\n",
    "import pandas as pd\n",
    "import numpy as np\n",
    "import matplotlib.pyplot as plt\n",
    "import seaborn as sns\n",
    "import pymc3 as pm\n",
    "import theano.tensor as tt\n",
    "import warnings\n",
    "warnings.filterwarnings(\"ignore\", category=FutureWarning)\n",
    "\n",
    "from theano.compile.ops import as_op\n",
    "from scipy.stats import norm\n",
    "from matplotlib import gridspec\n",
    "from matplotlib.patches import Rectangle\n",
    "from IPython.display import Image\n",
    "\n",
    "%matplotlib inline\n",
    "plt.style.use('seaborn-white')\n",
    "\n",
    "color = '#87ceeb'\n",
    "\n",
    "f_dict = {'size':14}"
   ]
  },
  {
   "cell_type": "code",
   "execution_count": 2,
   "metadata": {},
   "outputs": [
    {
     "name": "stdout",
     "output_type": "stream",
     "text": [
      "pandas    : 1.2.1\n",
      "numpy     : 1.19.5\n",
      "pymc3     : 3.11.0\n",
      "theano    : 1.1.0\n",
      "matplotlib: 3.3.3\n",
      "seaborn   : 0.11.1\n",
      "scipy     : 1.6.0\n",
      "\n"
     ]
    }
   ],
   "source": [
    "%load_ext watermark\n",
    "%watermark -p pandas,numpy,pymc3,theano,matplotlib,seaborn,scipy"
   ]
  },
  {
   "cell_type": "markdown",
   "metadata": {},
   "source": [
    "### 23.2 - The Case of a Single Group\n",
    "Code based on https://gist.github.com/DanielWeitzenfeld/d9ac64f76281e6c1d29217af76449664"
   ]
  },
  {
   "cell_type": "markdown",
   "metadata": {},
   "source": [
    "#### Data"
   ]
  },
  {
   "cell_type": "code",
   "execution_count": 3,
   "metadata": {},
   "outputs": [
    {
     "name": "stdout",
     "output_type": "stream",
     "text": [
      "<class 'pandas.core.frame.DataFrame'>\n",
      "RangeIndex: 100 entries, 0 to 99\n",
      "Data columns (total 1 columns):\n",
      " #   Column  Non-Null Count  Dtype   \n",
      "---  ------  --------------  -----   \n",
      " 0   Y       100 non-null    category\n",
      "dtypes: category(1)\n",
      "memory usage: 284.0 bytes\n"
     ]
    }
   ],
   "source": [
    "# Using dtype 'category' for Y\n",
    "df = pd.read_csv('data/OrdinalProbitData-1grp-1.csv', dtype={'Y':'category'})\n",
    "df.info()"
   ]
  },
  {
   "cell_type": "code",
   "execution_count": 4,
   "metadata": {},
   "outputs": [
    {
     "data": {
      "text/plain": [
       "1    58\n",
       "2    15\n",
       "3    12\n",
       "4     8\n",
       "5     4\n",
       "6     2\n",
       "7     1\n",
       "Name: Y, dtype: int64"
      ]
     },
     "execution_count": 4,
     "metadata": {},
     "output_type": "execute_result"
    }
   ],
   "source": [
    "df.Y.value_counts(sort=False)"
   ]
  },
  {
   "cell_type": "code",
   "execution_count": 5,
   "metadata": {},
   "outputs": [
    {
     "name": "stdout",
     "output_type": "stream",
     "text": [
      "thresh:\t\t[1.5 2.5 3.5 4.5 5.5 6.5]\n",
      "thresh_obs:\t[1.5 -- -- -- -- 6.5]\n"
     ]
    }
   ],
   "source": [
    "# Number of outcomes\n",
    "nYlevels = df.Y.cat.categories.size\n",
    "\n",
    "thresh = np.arange(1.5, nYlevels, dtype=np.float32)\n",
    "thresh_obs = np.ma.asarray(thresh)\n",
    "thresh_obs[1:-1] = np.ma.masked\n",
    "\n",
    "print('thresh:\\t\\t{}'.format(thresh))\n",
    "print('thresh_obs:\\t{}'.format(thresh_obs))"
   ]
  },
  {
   "cell_type": "markdown",
   "metadata": {},
   "source": [
    "#### Model"
   ]
  },
  {
   "cell_type": "code",
   "execution_count": 6,
   "metadata": {},
   "outputs": [
    {
     "name": "stderr",
     "output_type": "stream",
     "text": [
      "/home/yndk/.local/lib/python3.7/site-packages/pymc3/model.py:1739: ImputationWarning: Data in theta contains missing values and will be automatically imputed from the sampling distribution.\n",
      "  warnings.warn(impute_message, ImputationWarning)\n"
     ]
    },
    {
     "ename": "TypeError",
     "evalue": "We expected inputs of types '[TensorType(float32, vector), TensorType(float32, scalar), TensorType(float32, scalar)]' but got types '[TensorType(float64, vector), TensorType(float64, scalar), TensorType(float64, scalar)]'",
     "output_type": "error",
     "traceback": [
      "\u001b[0;31m---------------------------------------------------------------------------\u001b[0m",
      "\u001b[0;31mTypeError\u001b[0m                                 Traceback (most recent call last)",
      "\u001b[0;32m<ipython-input-6-b538e1e3078f>\u001b[0m in \u001b[0;36m<module>\u001b[0;34m\u001b[0m\n\u001b[1;32m     24\u001b[0m     \u001b[0msigma\u001b[0m \u001b[0;34m=\u001b[0m \u001b[0mpm\u001b[0m\u001b[0;34m.\u001b[0m\u001b[0mUniform\u001b[0m\u001b[0;34m(\u001b[0m\u001b[0;34m'sigma'\u001b[0m\u001b[0;34m,\u001b[0m \u001b[0mnYlevels\u001b[0m\u001b[0;34m/\u001b[0m\u001b[0;36m1000.0\u001b[0m\u001b[0;34m,\u001b[0m \u001b[0mnYlevels\u001b[0m\u001b[0;34m*\u001b[0m\u001b[0;36m10.0\u001b[0m\u001b[0;34m)\u001b[0m\u001b[0;34m\u001b[0m\u001b[0;34m\u001b[0m\u001b[0m\n\u001b[1;32m     25\u001b[0m \u001b[0;34m\u001b[0m\u001b[0m\n\u001b[0;32m---> 26\u001b[0;31m     \u001b[0mpr\u001b[0m \u001b[0;34m=\u001b[0m \u001b[0moutcome_probabilities\u001b[0m\u001b[0;34m(\u001b[0m\u001b[0mtheta\u001b[0m\u001b[0;34m,\u001b[0m \u001b[0mmu\u001b[0m\u001b[0;34m,\u001b[0m \u001b[0msigma\u001b[0m\u001b[0;34m)\u001b[0m\u001b[0;34m\u001b[0m\u001b[0;34m\u001b[0m\u001b[0m\n\u001b[0m\u001b[1;32m     27\u001b[0m \u001b[0;34m\u001b[0m\u001b[0m\n\u001b[1;32m     28\u001b[0m     \u001b[0my\u001b[0m \u001b[0;34m=\u001b[0m \u001b[0mpm\u001b[0m\u001b[0;34m.\u001b[0m\u001b[0mCategorical\u001b[0m\u001b[0;34m(\u001b[0m\u001b[0;34m'y'\u001b[0m\u001b[0;34m,\u001b[0m \u001b[0mpr\u001b[0m\u001b[0;34m,\u001b[0m \u001b[0mobserved\u001b[0m\u001b[0;34m=\u001b[0m\u001b[0mdf\u001b[0m\u001b[0;34m.\u001b[0m\u001b[0mY\u001b[0m\u001b[0;34m.\u001b[0m\u001b[0mcat\u001b[0m\u001b[0;34m.\u001b[0m\u001b[0mcodes\u001b[0m\u001b[0;34m.\u001b[0m\u001b[0mvalues\u001b[0m\u001b[0;34m)\u001b[0m\u001b[0;34m\u001b[0m\u001b[0;34m\u001b[0m\u001b[0m\n",
      "\u001b[0;32m~/.local/lib/python3.7/site-packages/theano/graph/op.py\u001b[0m in \u001b[0;36m__call__\u001b[0;34m(self, *inputs, **kwargs)\u001b[0m\n\u001b[1;32m    248\u001b[0m         \"\"\"\n\u001b[1;32m    249\u001b[0m         \u001b[0mreturn_list\u001b[0m \u001b[0;34m=\u001b[0m \u001b[0mkwargs\u001b[0m\u001b[0;34m.\u001b[0m\u001b[0mpop\u001b[0m\u001b[0;34m(\u001b[0m\u001b[0;34m\"return_list\"\u001b[0m\u001b[0;34m,\u001b[0m \u001b[0;32mFalse\u001b[0m\u001b[0;34m)\u001b[0m\u001b[0;34m\u001b[0m\u001b[0;34m\u001b[0m\u001b[0m\n\u001b[0;32m--> 250\u001b[0;31m         \u001b[0mnode\u001b[0m \u001b[0;34m=\u001b[0m \u001b[0mself\u001b[0m\u001b[0;34m.\u001b[0m\u001b[0mmake_node\u001b[0m\u001b[0;34m(\u001b[0m\u001b[0;34m*\u001b[0m\u001b[0minputs\u001b[0m\u001b[0;34m,\u001b[0m \u001b[0;34m**\u001b[0m\u001b[0mkwargs\u001b[0m\u001b[0;34m)\u001b[0m\u001b[0;34m\u001b[0m\u001b[0;34m\u001b[0m\u001b[0m\n\u001b[0m\u001b[1;32m    251\u001b[0m \u001b[0;34m\u001b[0m\u001b[0m\n\u001b[1;32m    252\u001b[0m         \u001b[0;32mif\u001b[0m \u001b[0mconfig\u001b[0m\u001b[0;34m.\u001b[0m\u001b[0mcompute_test_value\u001b[0m \u001b[0;34m!=\u001b[0m \u001b[0;34m\"off\"\u001b[0m\u001b[0;34m:\u001b[0m\u001b[0;34m\u001b[0m\u001b[0;34m\u001b[0m\u001b[0m\n",
      "\u001b[0;32m~/.local/lib/python3.7/site-packages/theano/graph/op.py\u001b[0m in \u001b[0;36mmake_node\u001b[0;34m(self, *inputs)\u001b[0m\n\u001b[1;32m    200\u001b[0m         \u001b[0;32mif\u001b[0m \u001b[0;32mnot\u001b[0m \u001b[0mall\u001b[0m\u001b[0;34m(\u001b[0m\u001b[0minp\u001b[0m\u001b[0;34m.\u001b[0m\u001b[0mtype\u001b[0m \u001b[0;34m==\u001b[0m \u001b[0mit\u001b[0m \u001b[0;32mfor\u001b[0m \u001b[0minp\u001b[0m\u001b[0;34m,\u001b[0m \u001b[0mit\u001b[0m \u001b[0;32min\u001b[0m \u001b[0mzip\u001b[0m\u001b[0;34m(\u001b[0m\u001b[0minputs\u001b[0m\u001b[0;34m,\u001b[0m \u001b[0mself\u001b[0m\u001b[0;34m.\u001b[0m\u001b[0mitypes\u001b[0m\u001b[0;34m)\u001b[0m\u001b[0;34m)\u001b[0m\u001b[0;34m:\u001b[0m\u001b[0;34m\u001b[0m\u001b[0;34m\u001b[0m\u001b[0m\n\u001b[1;32m    201\u001b[0m             raise TypeError(\n\u001b[0;32m--> 202\u001b[0;31m                 \u001b[0;34mf\"We expected inputs of types '{str(self.itypes)}' but got types '{str([inp.type for inp in inputs])}'\"\u001b[0m\u001b[0;34m\u001b[0m\u001b[0;34m\u001b[0m\u001b[0m\n\u001b[0m\u001b[1;32m    203\u001b[0m             )\n\u001b[1;32m    204\u001b[0m         \u001b[0;32mreturn\u001b[0m \u001b[0mApply\u001b[0m\u001b[0;34m(\u001b[0m\u001b[0mself\u001b[0m\u001b[0;34m,\u001b[0m \u001b[0minputs\u001b[0m\u001b[0;34m,\u001b[0m \u001b[0;34m[\u001b[0m\u001b[0mo\u001b[0m\u001b[0;34m(\u001b[0m\u001b[0;34m)\u001b[0m \u001b[0;32mfor\u001b[0m \u001b[0mo\u001b[0m \u001b[0;32min\u001b[0m \u001b[0mself\u001b[0m\u001b[0;34m.\u001b[0m\u001b[0motypes\u001b[0m\u001b[0;34m]\u001b[0m\u001b[0;34m)\u001b[0m\u001b[0;34m\u001b[0m\u001b[0;34m\u001b[0m\u001b[0m\n",
      "\u001b[0;31mTypeError\u001b[0m: We expected inputs of types '[TensorType(float32, vector), TensorType(float32, scalar), TensorType(float32, scalar)]' but got types '[TensorType(float64, vector), TensorType(float64, scalar), TensorType(float64, scalar)]'"
     ]
    }
   ],
   "source": [
    "# Using the Theano @as_op decorator with a custom function to calculate the threshold probabilities.\n",
    "# Theano cannot compute a gradient for these custom functions, so it is not possible to use\n",
    "# gradient based samplers in PyMC3.\n",
    "# http://pymc-devs.github.io/pymc3/notebooks/getting_started.html#Arbitrary-deterministics\n",
    "@as_op(itypes=[tt.fvector, tt.fscalar, tt.fscalar], otypes=[tt.fvector])\n",
    "def outcome_probabilities(theta, mu, sigma):\n",
    "    out = np.empty(nYlevels, dtype=np.float32)\n",
    "    n = norm(loc=mu, scale=sigma)       \n",
    "    out[0] = n.cdf(theta[0])        \n",
    "    out[1] = np.max([0, n.cdf(theta[1]) - n.cdf(theta[0])])\n",
    "    out[2] = np.max([0, n.cdf(theta[2]) - n.cdf(theta[1])])\n",
    "    out[3] = np.max([0, n.cdf(theta[3]) - n.cdf(theta[2])])\n",
    "    out[4] = np.max([0, n.cdf(theta[4]) - n.cdf(theta[3])])\n",
    "    out[5] = np.max([0, n.cdf(theta[5]) - n.cdf(theta[4])])\n",
    "    out[6] = 1 - n.cdf(theta[5])\n",
    "    return out\n",
    "\n",
    "with pm.Model() as ordinal_model_single:    \n",
    "    \n",
    "    theta = pm.Normal('theta', mu=thresh, tau=np.repeat(.5**2, len(thresh)),\n",
    "                      shape=len(thresh), observed=thresh_obs)\n",
    "    \n",
    "    mu = pm.Normal('mu', mu=nYlevels/2.0, tau=1.0/(nYlevels**2))\n",
    "    sigma = pm.Uniform('sigma', nYlevels/1000.0, nYlevels*10.0)\n",
    "          \n",
    "    pr = outcome_probabilities(theta, mu, sigma)\n",
    "        \n",
    "    y = pm.Categorical('y', pr, observed=df.Y.cat.codes.values)\n",
    "    \n",
    "pm.model_to_graphviz(ordinal_model_single)"
   ]
  },
  {
   "cell_type": "code",
   "execution_count": null,
   "metadata": {},
   "outputs": [],
   "source": [
    "with ordinal_model_single:\n",
    "    trace1 = pm.sample(3000, cores=4)"
   ]
  },
  {
   "cell_type": "code",
   "execution_count": null,
   "metadata": {},
   "outputs": [],
   "source": [
    "pm.traceplot(trace1);"
   ]
  },
  {
   "cell_type": "markdown",
   "metadata": {},
   "source": [
    "#### Figure 23.2"
   ]
  },
  {
   "cell_type": "code",
   "execution_count": null,
   "metadata": {},
   "outputs": [],
   "source": [
    "mu = trace1['mu']\n",
    "sigma = trace1['sigma']\n",
    "\n",
    "# Concatenate the fixed thresholds into the estimated thresholds\n",
    "n = trace1['theta_missing'].shape[0]\n",
    "thresholds = np.c_[np.tile([1.5], (n,1)),\n",
    "                   trace1['theta_missing'],\n",
    "                   np.tile([6.5], (n,1))]\n",
    "\n",
    "# Define gridspec\n",
    "fig = plt.figure(figsize=(10,8))\n",
    "gs = gridspec.GridSpec(3, 2)\n",
    "ax1 = plt.subplot(gs[0,0])\n",
    "ax2 = plt.subplot(gs[0,1])\n",
    "ax3 = plt.subplot(gs[1,0])\n",
    "ax4 = plt.subplot(gs[1,1])\n",
    "ax5 = plt.subplot(gs[2,0])\n",
    "\n",
    "# Mu\n",
    "pm.plot_posterior(mu, point_estimate='mode', color=color, ax=ax1)\n",
    "ax1.set_title('Mean', fontdict=f_dict)\n",
    "ax1.set_xlabel('$\\mu$', fontdict=f_dict)\n",
    "\n",
    "# Posterior predictive probabilities of the outcomes\n",
    "threshCumProb = np.empty(thresholds.shape)\n",
    "for i in np.arange(threshCumProb.shape[0]):\n",
    "    threshCumProb[i] = norm().cdf((thresholds[i] - mu[i])/sigma[i])    \n",
    "outProb = (np.c_[threshCumProb, np.tile(1, (thresholds.shape[0],1))]\n",
    "           - np.c_[np.tile(0, (thresholds.shape[0],1)), threshCumProb])\n",
    "yerr = np.abs(np.subtract(pm.hpd(outProb), outProb.mean(axis=0).reshape(-1,1)))\n",
    "\n",
    "(df.Y.value_counts()/df.Y.size).plot.bar(ax=ax2, rot=0, color='royalblue')\n",
    "ax2.errorbar(x = np.arange(df.Y.nunique()), y=outProb.mean(axis=0),\n",
    "             yerr=yerr.T, color=color, fmt='o')\n",
    "ax2.set_xlabel('y')\n",
    "sns.despine(ax=ax2, left=True)\n",
    "ax2.yaxis.set_visible(False)\n",
    "ax2.set_title('Data w. Post. Pred.\\n N={}'.format(df.Y.size), fontdict=f_dict)\n",
    "\n",
    "# Sigma\n",
    "pm.plot_posterior(sigma, point_estimate='mode', color=color, ax=ax3)\n",
    "ax3.set_title('Std. Dev.', fontdict=f_dict)\n",
    "ax3.set_xlabel('$\\sigma$', fontdict=f_dict)\n",
    "\n",
    "# Effect size\n",
    "pm.plot_posterior((mu-2)/sigma,point_estimate='mode',  color=color, ax=ax4)\n",
    "ax4.set_title('Effect Size', fontdict=f_dict)\n",
    "ax4.set_xlabel('$(\\mu-2)/\\sigma$', fontdict=f_dict)\n",
    "\n",
    "# Posterior distribution on the thresholds\n",
    "ax5.scatter(thresholds, np.tile(thresholds.mean(axis=1).reshape(-1,1), (1,6)), color=color, alpha=.6, facecolor='none')\n",
    "ax5.set_ylabel('Mean Threshold', fontdict=f_dict)\n",
    "ax5.set_xlabel('Threshold', fontdict=f_dict)\n",
    "ax5.vlines(x = thresholds.mean(axis=0),\n",
    "           ymin=thresholds.mean(axis=1).min(),\n",
    "           ymax=thresholds.mean(axis=1).max(), linestyles='dotted', colors=color)\n",
    "\n",
    "fig.tight_layout()"
   ]
  },
  {
   "cell_type": "markdown",
   "metadata": {},
   "source": [
    "### 23.3 - The Case of Two Groups"
   ]
  },
  {
   "cell_type": "markdown",
   "metadata": {},
   "source": [
    "#### Data"
   ]
  },
  {
   "cell_type": "code",
   "execution_count": null,
   "metadata": {},
   "outputs": [],
   "source": [
    "# Using dtype 'category' for X & Y\n",
    "df2 = pd.read_csv('data/OrdinalProbitData1.csv', dtype={'X':'category','Y':'category'})\n",
    "df2.info()"
   ]
  },
  {
   "cell_type": "code",
   "execution_count": null,
   "metadata": {},
   "outputs": [],
   "source": [
    "sns.countplot(x=df2.Y, hue=df2.X);"
   ]
  },
  {
   "cell_type": "code",
   "execution_count": null,
   "metadata": {},
   "outputs": [],
   "source": [
    "# Number of outcomes\n",
    "nYlevels2 = df2.Y.cat.categories.size\n",
    "# Number of groups\n",
    "n_grps = df2.X.nunique()\n",
    "# Group index\n",
    "grp_idx = df2.X.cat.codes.values\n",
    "\n",
    "thresh2 = np.arange(1.5, nYlevels2, dtype=np.float32)\n",
    "thresh_obs2 = np.ma.asarray(thresh2)\n",
    "thresh_obs2[1:-1] = np.ma.masked\n",
    "\n",
    "print('thresh2:\\t{}'.format(thresh2))\n",
    "print('thresh_obs2:\\t{}'.format(thresh_obs2))"
   ]
  },
  {
   "cell_type": "markdown",
   "metadata": {},
   "source": [
    "#### Model"
   ]
  },
  {
   "cell_type": "code",
   "execution_count": null,
   "metadata": {},
   "outputs": [],
   "source": [
    "@as_op(itypes=[tt.fvector, tt.fvector, tt.fvector], otypes=[tt.fmatrix])\n",
    "def outcome_probabilities(theta, mu, sigma):\n",
    "    out = np.empty((nYlevels2, n_grps), dtype=np.float32)\n",
    "    n = norm(loc=mu, scale=sigma)       \n",
    "    out[0,:] = n.cdf(theta[0])        \n",
    "    out[1,:] = np.max([[0,0], n.cdf(theta[1]) - n.cdf(theta[0])], axis=0)\n",
    "    out[2,:] = np.max([[0,0], n.cdf(theta[2]) - n.cdf(theta[1])], axis=0)\n",
    "    out[3,:] = np.max([[0,0], n.cdf(theta[3]) - n.cdf(theta[2])], axis=0)\n",
    "    out[4,:] = 1 - n.cdf(theta[3])\n",
    "    return out\n",
    "\n",
    "with pm.Model() as ordinal_model_multi_groups:    \n",
    "    \n",
    "    theta = pm.Normal('theta', mu=thresh2, tau=np.repeat(.5**2, len(thresh2)),\n",
    "                      shape=len(thresh2), observed=thresh_obs2)\n",
    "    \n",
    "    mu = pm.Normal('mu', mu=nYlevels2/2.0, tau=1.0/(nYlevels2**2), shape=n_grps)\n",
    "    sigma = pm.Uniform('sigma', nYlevels2/1000.0, nYlevels2*10.0, shape=n_grps)\n",
    "    \n",
    "    pr = outcome_probabilities(theta, mu, sigma)\n",
    "    \n",
    "    y = pm.Categorical('y', pr[:,grp_idx].T, observed=df2.Y.cat.codes.as_matrix())\n",
    "\n",
    "pm.model_to_graphviz(ordinal_model_multi_groups)"
   ]
  },
  {
   "cell_type": "code",
   "execution_count": null,
   "metadata": {},
   "outputs": [],
   "source": [
    "with ordinal_model_multi_groups:\n",
    "    trace2 = pm.sample(3000, cores=4)"
   ]
  },
  {
   "cell_type": "code",
   "execution_count": null,
   "metadata": {},
   "outputs": [],
   "source": [
    "pm.traceplot(trace2);"
   ]
  },
  {
   "cell_type": "markdown",
   "metadata": {},
   "source": [
    "#### Figure 23.4"
   ]
  },
  {
   "cell_type": "code",
   "execution_count": null,
   "metadata": {},
   "outputs": [],
   "source": [
    "mu2 = trace2['mu']\n",
    "sigma2 = trace2['sigma']\n",
    "\n",
    "# Concatenate the fixed thresholds into the estimated thresholds\n",
    "n = trace2['theta_missing'].shape[0]\n",
    "thresholds2 = np.c_[np.tile([1.5], (n,1)),\n",
    "                    trace2['theta_missing'],\n",
    "                    np.tile([4.5], (n,1))]\n",
    "\n",
    "fig, axes = plt.subplots(5,2, figsize=(10,14))\n",
    "ax1,ax2,ax3,ax4,ax5,ax6,ax7,ax8,ax9,ax10 = axes.flatten() \n",
    "\n",
    "# Mu\n",
    "pm.plot_posterior(mu2[:,0], point_estimate='mode', color=color, ax=ax1)\n",
    "ax1.set_xlabel('$\\mu_{1}$', fontdict=f_dict)\n",
    "pm.plot_posterior(mu2[:,1], point_estimate='mode', color=color, ax=ax3)\n",
    "ax3.set_xlabel('$\\mu_{2}$', fontdict=f_dict)\n",
    "for title, ax in zip(['A Mean', 'B Mean'], [ax1, ax3]):\n",
    "    ax.set_title(title, fontdict=f_dict)\n",
    "\n",
    "# Sigma\n",
    "pm.plot_posterior(sigma2[:,0], point_estimate='mode', color=color, ax=ax5)\n",
    "ax5.set_xlabel('$\\sigma_{1}$', fontdict=f_dict)\n",
    "pm.plot_posterior(sigma2[:,1], point_estimate='mode', color=color, ax=ax7)\n",
    "ax7.set_xlabel('$\\sigma_{2}$', fontdict=f_dict)\n",
    "for title, ax in zip(['A Std. Dev.', 'B Std. Dev.'], [ax5, ax7]):\n",
    "    ax.set_title(title, fontdict=f_dict)\n",
    "\n",
    "# Posterior distribution on the thresholds\n",
    "ax9.scatter(thresholds2, np.tile(thresholds2.mean(axis=1).reshape(-1,1), (1,4)), color=color, alpha=.6, facecolor='none')\n",
    "ax9.set_ylabel('Mean Threshold', fontdict=f_dict)\n",
    "ax9.set_xlabel('Threshold', fontdict=f_dict)\n",
    "ax9.vlines(x = thresholds2.mean(axis=0),\n",
    "           ymin=thresholds2.mean(axis=1).min(),\n",
    "           ymax=thresholds2.mean(axis=1).max(), linestyles='dotted', colors=color)\n",
    "\n",
    "# Posterior predictive probabilities of the outcomes\n",
    "threshCumProb2A = np.empty(thresholds2.shape)\n",
    "for i in np.arange(threshCumProb2A.shape[0]):\n",
    "    threshCumProb2A[i] = norm().cdf((thresholds2[i] - mu2[i,0])/sigma2[i,0])    \n",
    "outProb2A = (np.c_[threshCumProb2A, np.tile(1, (thresholds2.shape[0],1))]\n",
    "           - np.c_[np.tile(0, (thresholds2.shape[0],1)), threshCumProb2A])\n",
    "yerr2A = np.abs(np.subtract(pm.hpd(outProb2A), outProb2A.mean(axis=0).reshape(-1,1)))\n",
    "\n",
    "ax2.errorbar(x = np.arange(outProb2A.shape[1]), y=outProb2A.mean(axis=0),\n",
    "             yerr=yerr2A.T, color=color, fmt='o')\n",
    "\n",
    "threshCumProb2B = np.empty(thresholds2.shape)\n",
    "for i in np.arange(threshCumProb2B.shape[0]):\n",
    "    threshCumProb2B[i] = norm().cdf((thresholds2[i] - mu2[i,1])/sigma2[i,1])    \n",
    "outProb2B = (np.c_[threshCumProb2B, np.tile(1, (thresholds2.shape[0],1))]\n",
    "           - np.c_[np.tile(0, (thresholds2.shape[0],1)), threshCumProb2B])\n",
    "yerr2B = np.abs(np.subtract(pm.hpd(outProb2B), outProb2B.mean(axis=0).reshape(-1,1)))\n",
    "\n",
    "ax4.errorbar(x = np.arange(outProb2B.shape[1]), y=outProb2B.mean(axis=0),\n",
    "             yerr=yerr2B.T, color=color, fmt='o')\n",
    "\n",
    "for grp, ax in zip(['A', 'B'], [ax2, ax4]):\n",
    "    ((df2[df2.X == grp].Y.value_counts()/df2[df2.X == grp].Y.size)\n",
    "     .plot.bar(ax=ax, rot=0, color='royalblue'))\n",
    "    ax.set_title('Data for {0} with Post. Pred.\\nN = {1}'.format(grp, df2[df2.X == grp].Y.size), fontdict=f_dict)\n",
    "    ax.set_xlabel('y')\n",
    "    sns.despine(ax=ax, left=True)\n",
    "    ax.yaxis.set_visible(False)\n",
    "\n",
    "# Mu diff\n",
    "pm.plot_posterior(mu2[:,1]-mu2[:,0], point_estimate='mode', color=color, ax=ax6)\n",
    "ax6.set_xlabel('$\\mu_{2}-\\mu_{1}$', fontdict=f_dict)\n",
    "# Sigma diff\n",
    "pm.plot_posterior(sigma2[:,1]-sigma2[:,0], point_estimate='mode', color=color, ax=ax8)\n",
    "ax8.set_xlabel('$\\sigma_{2}-\\sigma_{1}$', fontdict=f_dict)\n",
    "# Effect size\n",
    "pm.plot_posterior((mu2[:,1]-mu2[:,0]) / np.sqrt((sigma2[:,0]**2+sigma2[:,1]**2)/2), point_estimate='mode', color=color, ax=ax10)\n",
    "ax10.set_xlabel(r'$\\frac{(\\mu_2-\\mu_1)}{\\sqrt{(\\sigma_1^2+\\sigma_2^2)/2}}$', fontdict=f_dict)\n",
    "for title, ax in zip(['Differences of Means', 'Difference of Std. Dev\\'s', 'Effect Size'], [ax6, ax8, ax10]):\n",
    "    ax.set_title(title, fontdict=f_dict)\n",
    "\n",
    "fig.tight_layout()"
   ]
  },
  {
   "cell_type": "markdown",
   "metadata": {},
   "source": [
    "### 23.4 - The Case of Metric Predictors\n",
    "#### One Predictor"
   ]
  },
  {
   "cell_type": "markdown",
   "metadata": {},
   "source": [
    "#### Data"
   ]
  },
  {
   "cell_type": "code",
   "execution_count": null,
   "metadata": {},
   "outputs": [],
   "source": [
    "df3 = pd.read_csv('data/OrdinalProbitData-LinReg-2.csv', dtype={'Y':'category'})\n",
    "df3.info()"
   ]
  },
  {
   "cell_type": "code",
   "execution_count": null,
   "metadata": {},
   "outputs": [],
   "source": [
    "df3.head()"
   ]
  },
  {
   "cell_type": "markdown",
   "metadata": {},
   "source": [
    "#### Standardize data"
   ]
  },
  {
   "cell_type": "code",
   "execution_count": null,
   "metadata": {},
   "outputs": [],
   "source": [
    "sd_X = df3.X.std()\n",
    "mean_X = df3.X.mean()\n",
    "zX = (df3.X - mean_X)/sd_X"
   ]
  },
  {
   "cell_type": "code",
   "execution_count": null,
   "metadata": {},
   "outputs": [],
   "source": [
    "nYlevels3 = df3.Y.nunique()\n",
    "\n",
    "thresh3 = np.arange(1.5, nYlevels3, dtype=np.float32)\n",
    "thresh_obs3 = np.ma.asarray(thresh3)\n",
    "thresh_obs3[1:-1] = np.ma.masked\n",
    "\n",
    "print('thresh3:\\t{}'.format(thresh3))\n",
    "print('thresh_obs3:\\t{}'.format(thresh_obs3))"
   ]
  },
  {
   "cell_type": "markdown",
   "metadata": {},
   "source": [
    "#### Model\n",
    "Not generalized for multiple metric predictors."
   ]
  },
  {
   "cell_type": "code",
   "execution_count": null,
   "metadata": {},
   "outputs": [],
   "source": [
    "@as_op(itypes=[tt.fvector, tt.fvector, tt.fscalar], otypes=[tt.fmatrix])\n",
    "def outcome_probabilities(theta, mu, sigma):\n",
    "    out = np.empty((mu.size, nYlevels3), dtype=np.float32)\n",
    "    n = norm(loc=mu, scale=sigma)       \n",
    "    out[:,0] = n.cdf(theta[0])        \n",
    "    out[:,1] = np.max([np.repeat(0,mu.size), n.cdf(theta[1]) - n.cdf(theta[0])], axis=0)\n",
    "    out[:,2] = np.max([np.repeat(0,mu.size), n.cdf(theta[2]) - n.cdf(theta[1])], axis=0)\n",
    "    out[:,3] = np.max([np.repeat(0,mu.size), n.cdf(theta[3]) - n.cdf(theta[2])], axis=0)\n",
    "    out[:,4] = np.max([np.repeat(0,mu.size), n.cdf(theta[4]) - n.cdf(theta[3])], axis=0)\n",
    "    out[:,5] = np.max([np.repeat(0,mu.size), n.cdf(theta[5]) - n.cdf(theta[4])], axis=0)\n",
    "    out[:,6] = 1 - n.cdf(theta[5])\n",
    "    return out\n",
    "\n",
    "with pm.Model() as ordinal_model_metric:    \n",
    "    \n",
    "    theta = pm.Normal('theta', mu=thresh3, tau=np.repeat(1/2**2, len(thresh3)),\n",
    "                      shape=len(thresh3), observed=thresh_obs3)\n",
    "    \n",
    "    zbeta0 = pm.Normal('zbeta0', mu=(1+nYlevels3)/2, tau=1/nYlevels3**2)\n",
    "    zbeta = pm.Normal('zbeta', mu=0.0, tau=1/nYlevels3**2)\n",
    "    mu = pm.Deterministic('mu', zbeta0 + zbeta*zX.astype('float32'))\n",
    "        \n",
    "    zsigma = pm.Uniform('zsigma', nYlevels3/1000.0, nYlevels3*10.0)\n",
    "            \n",
    "    pr = outcome_probabilities(theta, mu, zsigma)\n",
    "    \n",
    "    y = pm.Categorical('y', pr, observed=df3.Y.cat.codes)\n",
    "    \n",
    "pm.model_to_graphviz(ordinal_model_metric)"
   ]
  },
  {
   "cell_type": "code",
   "execution_count": null,
   "metadata": {},
   "outputs": [],
   "source": [
    "with ordinal_model_metric:\n",
    "    trace3 = pm.sample(3000, cores=4)"
   ]
  },
  {
   "cell_type": "code",
   "execution_count": null,
   "metadata": {},
   "outputs": [],
   "source": [
    "pm.traceplot(trace3);"
   ]
  },
  {
   "cell_type": "markdown",
   "metadata": {},
   "source": [
    "#### Figure 23.7"
   ]
  },
  {
   "cell_type": "code",
   "execution_count": null,
   "metadata": {},
   "outputs": [],
   "source": [
    "# Convert parameters to original scale\n",
    "beta = trace3['zbeta']/sd_X\n",
    "beta0 = trace3['zbeta0'] - trace3['zbeta']*mean_X/sd_X\n",
    "sigma = trace3['zsigma']\n",
    "\n",
    "# Concatenate the fixed thresholds into the estimated thresholds\n",
    "n = trace3['theta_missing'].shape[0]\n",
    "thresholds3 = np.c_[np.tile([1.5], (n,1)),\n",
    "                   trace3['theta_missing'],\n",
    "                   np.tile([6.5], (n,1))]\n",
    "\n",
    "# Define gridspec\n",
    "fig = plt.figure(figsize=(10,10))\n",
    "gs = gridspec.GridSpec(4, 3)\n",
    "ax1 = plt.subplot(gs[:2,:])\n",
    "ax2 = plt.subplot(gs[2,0])\n",
    "ax3 = plt.subplot(gs[2,1])\n",
    "ax4 = plt.subplot(gs[2,2])\n",
    "ax5 = plt.subplot(gs[3,:])\n",
    "\n",
    "# Scatterplot\n",
    "ax1.scatter(df3.X, df3.Y, edgecolors='k', lw=2, facecolor='none')\n",
    "# Samples of regression lines\n",
    "x_range = np.linspace(df3.X.min(), df3.X.max())\n",
    "B = pd.DataFrame(np.c_[beta0, beta], columns=['beta0', 'beta']).sample(20)\n",
    "for i in np.arange(len(B)):\n",
    "    ax1.plot(x_range, B.iloc[i,0]+B.iloc[i,1]*x_range, c=color, alpha=0.5)    \n",
    "ax1.set_ylim((0.5,7.75))\n",
    "ax1.set_xlim(xmin=.8)\n",
    "\n",
    "# Draw the posterior (mean) predicted probability at 5 selected values of the predictor. \n",
    "# Not stepping through the chain in order to calculate the HDI.\n",
    "for v in np.linspace(df3.X.min(), df3.X.max(), 5):\n",
    "    ax1.axvline(x=v, color='grey', alpha=.5)\n",
    "    mu = beta0.mean()+beta.mean()*v\n",
    "    threshCumProb3 = norm().cdf((np.mean(thresholds3, axis=0) - mu)/sigma.mean())    \n",
    "    outProb3 = np.diff(np.r_[0, threshCumProb3, 1])\n",
    "       \n",
    "    for i, p in enumerate(outProb3):\n",
    "        ax1.add_patch(Rectangle(xy=(v-p/10, i+0.75), width=p/10, height=0.75, color=color, alpha=.5))\n",
    "\n",
    "pm.plot_posterior(beta0, point_estimate='mode', color=color, ax=ax2)\n",
    "pm.plot_posterior(beta, point_estimate='mode', color=color, ax=ax3)\n",
    "pm.plot_posterior(sigma, point_estimate='mode', color=color, ax=ax4);\n",
    "for title, label, ax in zip(['Intercept', 'X', 'Std. Dev.'],\n",
    "                            [r'$\\beta_{0}$', r'$\\beta_{1}$', r'$\\sigma$'],\n",
    "                            [ax2, ax3, ax4]):\n",
    "    ax.set_title(title, fontdict=f_dict)\n",
    "    ax.set_xlabel(label, fontdict=f_dict)\n",
    "    \n",
    "# Posterior distribution on the thresholds\n",
    "ax5.scatter(thresholds3, np.tile(thresholds3.mean(axis=1).reshape(-1,1), (1,6)), color=color, alpha=.6, facecolor='none')\n",
    "ax5.set_ylabel('Mean Threshold', fontdict=f_dict)\n",
    "ax5.set_xlabel('Threshold', fontdict=f_dict)\n",
    "ax5.vlines(x = thresholds3.mean(axis=0),\n",
    "           ymin=thresholds3.mean(axis=1).min(),\n",
    "           ymax=thresholds3.mean(axis=1).max(), linestyles='dotted', colors=color)\n",
    "    \n",
    "fig.tight_layout()"
   ]
  },
  {
   "cell_type": "markdown",
   "metadata": {},
   "source": [
    "#### Two Predictors"
   ]
  },
  {
   "cell_type": "markdown",
   "metadata": {},
   "source": [
    "#### Data"
   ]
  },
  {
   "cell_type": "code",
   "execution_count": null,
   "metadata": {},
   "outputs": [],
   "source": [
    "df4 = pd.read_csv('data/Movies.csv', usecols=[1,2,4], dtype={'Rating':'category'})\n",
    "df4.info()"
   ]
  },
  {
   "cell_type": "code",
   "execution_count": null,
   "metadata": {},
   "outputs": [],
   "source": [
    "df4.head()"
   ]
  },
  {
   "cell_type": "code",
   "execution_count": null,
   "metadata": {},
   "outputs": [],
   "source": [
    "X = df4[['Year','Length']]\n",
    "Y = df4.Rating"
   ]
  },
  {
   "cell_type": "code",
   "execution_count": null,
   "metadata": {},
   "outputs": [],
   "source": [
    "sd_X = X.std()\n",
    "mean_X = X.mean()\n",
    "zX = (X - mean_X)/sd_X"
   ]
  },
  {
   "cell_type": "code",
   "execution_count": null,
   "metadata": {},
   "outputs": [],
   "source": [
    "nYlevels4 = Y.nunique()\n",
    "\n",
    "thresh4 = np.arange(1.5, nYlevels4, dtype=np.float32)\n",
    "thresh_obs4 = np.ma.asarray(thresh4)\n",
    "thresh_obs4[1:-1] = np.ma.masked\n",
    "\n",
    "print('thresh4:\\t{}'.format(thresh4))\n",
    "print('thresh_obs4:\\t{}'.format(thresh_obs4))"
   ]
  },
  {
   "cell_type": "code",
   "execution_count": null,
   "metadata": {},
   "outputs": [],
   "source": [
    "@as_op(itypes=[tt.fvector, tt.fvector, tt.fscalar], otypes=[tt.fmatrix])\n",
    "def outcome_probabilities(theta, mu, sigma):\n",
    "    out = np.empty((mu.size, nYlevels4), dtype=np.float32)\n",
    "    n = norm(loc=mu, scale=sigma)       \n",
    "    out[:,0] = n.cdf(theta[0])        \n",
    "    out[:,1] = np.max([np.repeat(0,mu.size), n.cdf(theta[1]) - n.cdf(theta[0])], axis=0)\n",
    "    out[:,2] = np.max([np.repeat(0,mu.size), n.cdf(theta[2]) - n.cdf(theta[1])], axis=0)\n",
    "    out[:,3] = np.max([np.repeat(0,mu.size), n.cdf(theta[3]) - n.cdf(theta[2])], axis=0)\n",
    "    out[:,4] = np.max([np.repeat(0,mu.size), n.cdf(theta[4]) - n.cdf(theta[3])], axis=0)\n",
    "    out[:,5] = np.max([np.repeat(0,mu.size), n.cdf(theta[5]) - n.cdf(theta[4])], axis=0)\n",
    "    out[:,6] = 1 - n.cdf(theta[5])\n",
    "    return out\n",
    "\n",
    "with pm.Model() as ordinal_model_multi_metric:    \n",
    "    \n",
    "    theta = pm.Normal('theta', mu=thresh4, tau=np.repeat(1/2**2, len(thresh4)),\n",
    "                      shape=len(thresh4), observed=thresh_obs4)\n",
    "    \n",
    "    zbeta0 = pm.Normal('zbeta0', mu=(1+nYlevels4)/2, tau=1/nYlevels4**2)\n",
    "    zbeta = pm.Normal('zbeta', mu=0.0, tau=1/nYlevels4**2, shape=X.shape[1])\n",
    "    mu = pm.Deterministic('mu', zbeta0 + pm.math.dot(zbeta,zX.T.astype('float32')))\n",
    "        \n",
    "    zsigma = pm.Uniform('zsigma', nYlevels4/1000.0, nYlevels4*10.0)\n",
    "            \n",
    "    pr = outcome_probabilities(theta, mu, zsigma)\n",
    "    \n",
    "    y = pm.Categorical('y', pr, observed=Y.cat.codes)\n",
    "    \n",
    "pm.model_to_graphviz(ordinal_model_multi_metric)"
   ]
  },
  {
   "cell_type": "code",
   "execution_count": null,
   "metadata": {},
   "outputs": [],
   "source": [
    "with ordinal_model_multi_metric:\n",
    "    trace4 = pm.sample(3000, cores=4)"
   ]
  },
  {
   "cell_type": "code",
   "execution_count": null,
   "metadata": {},
   "outputs": [],
   "source": [
    "pm.traceplot(trace4);"
   ]
  },
  {
   "cell_type": "markdown",
   "metadata": {},
   "source": [
    "#### Figure 23.9\n",
    "Equation 23.5 defines how the threshold lines are calculated.\n",
    "$$x_{2}=\\bigg(\\frac{\\theta_{k}-\\beta_{0}}{\\beta_{2}}\\bigg) + \\bigg(\\frac{-\\beta_{1}}{\\beta_{2}}\\bigg) x_{1}$$\n",
    "$x_{1}$: Year  \n",
    "$x_{2}$: Length"
   ]
  },
  {
   "cell_type": "code",
   "execution_count": null,
   "metadata": {},
   "outputs": [],
   "source": [
    "# Convert parameters to original scale\n",
    "beta = trace4['zbeta']/sd_X.values\n",
    "beta0 = trace4['zbeta0'] - np.sum(trace4['zbeta']*mean_X.values/sd_X.values, axis=1)\n",
    "sigma = trace4['zsigma']\n",
    "\n",
    "# Concatenate the fixed thresholds into the estimated thresholds\n",
    "n = trace4['theta_missing'].shape[0]\n",
    "thresholds4 = np.c_[np.tile([1.5], (n,1)),\n",
    "                   trace4['theta_missing'],\n",
    "                   np.tile([6.5], (n,1))]\n",
    "\n",
    "# Define gridspec\n",
    "fig = plt.figure(figsize=(10,14))\n",
    "gs = gridspec.GridSpec(6, 3)\n",
    "ax1 = plt.subplot(gs[:4,:])\n",
    "ax2 = plt.subplot(gs[4,0])\n",
    "ax3 = plt.subplot(gs[4,1])\n",
    "ax4 = plt.subplot(gs[4,2])\n",
    "ax5 = plt.subplot(gs[5,:])\n",
    "\n",
    "for year, length, marker in zip(df4.Year, df4.Length, df4.Rating.cat.codes.map(lambda m: r'${}$'.format(m))):\n",
    "    ax1.scatter(year, length, marker=marker, s=100, c='k')\n",
    "ax1.set_xlabel('Year', fontdict=f_dict)\n",
    "ax1.set_ylabel('Length', fontdict=f_dict)\n",
    "ax1.set_xlim((df4.Year.min()-5,df4.Year.max()+5))\n",
    "ax1.set_ylim((df4.Length.min()*.95,df4.Length.max()*1.05))\n",
    "\n",
    "# Plot three sets of thresholds\n",
    "# Randomly selecting 3 steps from the trace\n",
    "sample_size = 3\n",
    "trace_idx = np.random.randint(0,high=len(trace4), size=sample_size)\n",
    "# Different colors for each of the 3 steps\n",
    "line_colors = ['red', 'green', 'blue']\n",
    "\n",
    "x1_year = np.linspace(df4.Year.min()-5, df4.Year.max()+5)\n",
    "# Looping over the three sample indexes and six thresholds simultaneously (3x6 matrix)\n",
    "for i, k in np.ndindex(sample_size,thresholds4.shape[1]):\n",
    "    idx = trace_idx[i]\n",
    "    # Equation 23.5\n",
    "    x2_length = (thresholds4[idx,k]-beta0[idx])/beta[idx,1]+(-beta[idx,0]/beta[idx,1])*x1_year\n",
    "    ax1.plot(x1_year, x2_length, c=line_colors[i])\n",
    "\n",
    "# Plot posteriors    \n",
    "pm.plot_posterior(beta0, point_estimate='mode', color=color, ax=ax2)\n",
    "pm.plot_posterior(beta[:,0], point_estimate='mode', color=color, ax=ax3)\n",
    "pm.plot_posterior(beta[:,1], point_estimate='mode', color=color, ax=ax4);\n",
    "for title, label, ax in zip(['Intercept', 'Year', 'Length'],\n",
    "                            [r'$\\beta_{0}$', r'$\\beta_{1}$', r'$\\beta_{2}$'],\n",
    "                            [ax2, ax3, ax4]):\n",
    "    ax.set_title(title, fontdict=f_dict)\n",
    "    ax.set_xlabel(label, fontdict=f_dict)\n",
    "    \n",
    "# Posterior distribution on the thresholds\n",
    "ax5.scatter(thresholds4, np.tile(thresholds4.mean(axis=1).reshape(-1,1), (1,6)), color=color, alpha=.6, facecolor='none')\n",
    "ax5.set_ylabel('Mean Threshold', fontdict=f_dict)\n",
    "ax5.set_xlabel('Threshold', fontdict=f_dict)\n",
    "ax5.vlines(x = thresholds4.mean(axis=0),\n",
    "           ymin=thresholds4.mean(axis=1).min(),\n",
    "           ymax=thresholds4.mean(axis=1).max(), linestyles='dotted', colors=color)\n",
    "    \n",
    "fig.tight_layout()"
   ]
  }
 ],
 "metadata": {
  "anaconda-cloud": {},
  "kernelspec": {
   "display_name": "Python 3",
   "language": "python",
   "name": "python3"
  },
  "language_info": {
   "codemirror_mode": {
    "name": "ipython",
    "version": 3
   },
   "file_extension": ".py",
   "mimetype": "text/x-python",
   "name": "python",
   "nbconvert_exporter": "python",
   "pygments_lexer": "ipython3",
   "version": "3.7.5"
  }
 },
 "nbformat": 4,
 "nbformat_minor": 4
}
