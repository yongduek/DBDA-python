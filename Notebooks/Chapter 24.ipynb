{
 "cells": [
  {
   "cell_type": "markdown",
   "metadata": {},
   "source": [
    "## Chapter 24 - Count Predicted Variable"
   ]
  },
  {
   "cell_type": "markdown",
   "metadata": {},
   "source": [
    "- [24.2 - Example: Hair Eye Go Again](#24.2---Example:-Hair-Eye-Go-Again)"
   ]
  },
  {
   "cell_type": "code",
   "execution_count": 1,
   "metadata": {},
   "outputs": [
    {
     "name": "stderr",
     "output_type": "stream",
     "text": [
      "WARNING (theano.tensor.blas): Using NumPy C-API based implementation for BLAS functions.\n"
     ]
    }
   ],
   "source": [
    "import pandas as pd\n",
    "import numpy as np\n",
    "import matplotlib.pyplot as plt\n",
    "import seaborn as sns\n",
    "import pymc3 as pm\n",
    "import theano.tensor as tt\n",
    "import warnings\n",
    "warnings.filterwarnings(\"ignore\", category=FutureWarning)\n",
    "\n",
    "from matplotlib import gridspec\n",
    "from IPython.display import Image\n",
    "\n",
    "%matplotlib inline\n",
    "plt.style.use('seaborn-white')\n",
    "\n",
    "color = '#87ceeb'\n",
    "\n",
    "f_dict = {'size':14}"
   ]
  },
  {
   "cell_type": "code",
   "execution_count": 2,
   "metadata": {},
   "outputs": [],
   "source": [
    "def gammaShRaFromModeSD(mode, sd):\n",
    "    \"\"\"Calculate Gamma shape and rate from mode and sd.\"\"\"\n",
    "    rate = (mode + np.sqrt( mode**2 + 4 * sd**2 ) ) / ( 2 * sd**2 )\n",
    "    shape = 1 + mode * rate\n",
    "    return(shape, rate)"
   ]
  },
  {
   "cell_type": "markdown",
   "metadata": {},
   "source": [
    "### 24.2 - Example: Hair Eye Go Again"
   ]
  },
  {
   "cell_type": "markdown",
   "metadata": {},
   "source": [
    "#### Data"
   ]
  },
  {
   "cell_type": "code",
   "execution_count": 3,
   "metadata": {},
   "outputs": [
    {
     "name": "stdout",
     "output_type": "stream",
     "text": [
      "<class 'pandas.core.frame.DataFrame'>\n",
      "RangeIndex: 16 entries, 0 to 15\n",
      "Data columns (total 3 columns):\n",
      " #   Column  Non-Null Count  Dtype   \n",
      "---  ------  --------------  -----   \n",
      " 0   Hair    16 non-null     category\n",
      " 1   Eye     16 non-null     category\n",
      " 2   Count   16 non-null     int64   \n",
      "dtypes: category(2), int64(1)\n",
      "memory usage: 352.0 bytes\n"
     ]
    }
   ],
   "source": [
    "df = pd.read_csv('data/HairEyeColor.csv', dtype={'Hair':'category', 'Eye':'category'})\n",
    "df.info()"
   ]
  },
  {
   "cell_type": "code",
   "execution_count": 4,
   "metadata": {},
   "outputs": [
    {
     "data": {
      "text/html": [
       "<div>\n",
       "<style scoped>\n",
       "    .dataframe tbody tr th:only-of-type {\n",
       "        vertical-align: middle;\n",
       "    }\n",
       "\n",
       "    .dataframe tbody tr th {\n",
       "        vertical-align: top;\n",
       "    }\n",
       "\n",
       "    .dataframe thead th {\n",
       "        text-align: right;\n",
       "    }\n",
       "</style>\n",
       "<table border=\"1\" class=\"dataframe\">\n",
       "  <thead>\n",
       "    <tr style=\"text-align: right;\">\n",
       "      <th></th>\n",
       "      <th>Hair</th>\n",
       "      <th>Eye</th>\n",
       "      <th>Count</th>\n",
       "      <th>Prop</th>\n",
       "    </tr>\n",
       "  </thead>\n",
       "  <tbody>\n",
       "    <tr>\n",
       "      <th>0</th>\n",
       "      <td>Black</td>\n",
       "      <td>Blue</td>\n",
       "      <td>20</td>\n",
       "      <td>0.033784</td>\n",
       "    </tr>\n",
       "    <tr>\n",
       "      <th>1</th>\n",
       "      <td>Black</td>\n",
       "      <td>Brown</td>\n",
       "      <td>68</td>\n",
       "      <td>0.114865</td>\n",
       "    </tr>\n",
       "    <tr>\n",
       "      <th>2</th>\n",
       "      <td>Black</td>\n",
       "      <td>Green</td>\n",
       "      <td>5</td>\n",
       "      <td>0.008446</td>\n",
       "    </tr>\n",
       "    <tr>\n",
       "      <th>3</th>\n",
       "      <td>Black</td>\n",
       "      <td>Hazel</td>\n",
       "      <td>15</td>\n",
       "      <td>0.025338</td>\n",
       "    </tr>\n",
       "    <tr>\n",
       "      <th>4</th>\n",
       "      <td>Blond</td>\n",
       "      <td>Blue</td>\n",
       "      <td>94</td>\n",
       "      <td>0.158784</td>\n",
       "    </tr>\n",
       "  </tbody>\n",
       "</table>\n",
       "</div>"
      ],
      "text/plain": [
       "    Hair    Eye  Count      Prop\n",
       "0  Black   Blue     20  0.033784\n",
       "1  Black  Brown     68  0.114865\n",
       "2  Black  Green      5  0.008446\n",
       "3  Black  Hazel     15  0.025338\n",
       "4  Blond   Blue     94  0.158784"
      ]
     },
     "execution_count": 4,
     "metadata": {},
     "output_type": "execute_result"
    }
   ],
   "source": [
    "df['Prop'] = df.Count.apply(lambda x: x/df.Count.sum())\n",
    "df.head()"
   ]
  },
  {
   "cell_type": "code",
   "execution_count": 5,
   "metadata": {},
   "outputs": [
    {
     "data": {
      "text/html": [
       "<div>\n",
       "<style scoped>\n",
       "    .dataframe tbody tr th:only-of-type {\n",
       "        vertical-align: middle;\n",
       "    }\n",
       "\n",
       "    .dataframe tbody tr th {\n",
       "        vertical-align: top;\n",
       "    }\n",
       "\n",
       "    .dataframe thead tr th {\n",
       "        text-align: left;\n",
       "    }\n",
       "\n",
       "    .dataframe thead tr:last-of-type th {\n",
       "        text-align: right;\n",
       "    }\n",
       "</style>\n",
       "<table border=\"1\" class=\"dataframe\">\n",
       "  <thead>\n",
       "    <tr>\n",
       "      <th></th>\n",
       "      <th colspan=\"4\" halign=\"left\">Count</th>\n",
       "      <th colspan=\"4\" halign=\"left\">Prop</th>\n",
       "    </tr>\n",
       "    <tr>\n",
       "      <th>Hair</th>\n",
       "      <th>Black</th>\n",
       "      <th>Blond</th>\n",
       "      <th>Brown</th>\n",
       "      <th>Red</th>\n",
       "      <th>Black</th>\n",
       "      <th>Blond</th>\n",
       "      <th>Brown</th>\n",
       "      <th>Red</th>\n",
       "    </tr>\n",
       "    <tr>\n",
       "      <th>Eye</th>\n",
       "      <th></th>\n",
       "      <th></th>\n",
       "      <th></th>\n",
       "      <th></th>\n",
       "      <th></th>\n",
       "      <th></th>\n",
       "      <th></th>\n",
       "      <th></th>\n",
       "    </tr>\n",
       "  </thead>\n",
       "  <tbody>\n",
       "    <tr>\n",
       "      <th>Blue</th>\n",
       "      <td>20</td>\n",
       "      <td>94</td>\n",
       "      <td>84</td>\n",
       "      <td>17</td>\n",
       "      <td>0.033784</td>\n",
       "      <td>0.158784</td>\n",
       "      <td>0.141892</td>\n",
       "      <td>0.028716</td>\n",
       "    </tr>\n",
       "    <tr>\n",
       "      <th>Brown</th>\n",
       "      <td>68</td>\n",
       "      <td>7</td>\n",
       "      <td>119</td>\n",
       "      <td>26</td>\n",
       "      <td>0.114865</td>\n",
       "      <td>0.011824</td>\n",
       "      <td>0.201014</td>\n",
       "      <td>0.043919</td>\n",
       "    </tr>\n",
       "    <tr>\n",
       "      <th>Green</th>\n",
       "      <td>5</td>\n",
       "      <td>16</td>\n",
       "      <td>29</td>\n",
       "      <td>14</td>\n",
       "      <td>0.008446</td>\n",
       "      <td>0.027027</td>\n",
       "      <td>0.048986</td>\n",
       "      <td>0.023649</td>\n",
       "    </tr>\n",
       "    <tr>\n",
       "      <th>Hazel</th>\n",
       "      <td>15</td>\n",
       "      <td>10</td>\n",
       "      <td>54</td>\n",
       "      <td>14</td>\n",
       "      <td>0.025338</td>\n",
       "      <td>0.016892</td>\n",
       "      <td>0.091216</td>\n",
       "      <td>0.023649</td>\n",
       "    </tr>\n",
       "  </tbody>\n",
       "</table>\n",
       "</div>"
      ],
      "text/plain": [
       "      Count                      Prop                              \n",
       "Hair  Black Blond Brown Red     Black     Blond     Brown       Red\n",
       "Eye                                                                \n",
       "Blue     20    94    84  17  0.033784  0.158784  0.141892  0.028716\n",
       "Brown    68     7   119  26  0.114865  0.011824  0.201014  0.043919\n",
       "Green     5    16    29  14  0.008446  0.027027  0.048986  0.023649\n",
       "Hazel    15    10    54  14  0.025338  0.016892  0.091216  0.023649"
      ]
     },
     "execution_count": 5,
     "metadata": {},
     "output_type": "execute_result"
    }
   ],
   "source": [
    "df_pivot = df.pivot('Eye', 'Hair')\n",
    "df_pivot"
   ]
  },
  {
   "cell_type": "markdown",
   "metadata": {},
   "source": [
    "#### Model (Kruschke, 2015)"
   ]
  },
  {
   "cell_type": "code",
   "execution_count": 6,
   "metadata": {},
   "outputs": [
    {
     "data": {
      "image/png": "[encoded data removed]",
      "text/plain": [
       "<IPython.core.display.Image object>"
      ]
     },
     "execution_count": 6,
     "metadata": {},
     "output_type": "execute_result"
    }
   ],
   "source": [
    "Image('images/fig24_2.png')"
   ]
  },
  {
   "cell_type": "code",
   "execution_count": 7,
   "metadata": {},
   "outputs": [
    {
     "data": {
      "image/svg+xml": [
       "<?xml version=\"1.0\" encoding=\"UTF-8\" standalone=\"no\"?>\n",
       "<!DOCTYPE svg PUBLIC \"-//W3C//DTD SVG 1.1//EN\"\n",
       " \"http://www.w3.org/Graphics/SVG/1.1/DTD/svg11.dtd\">\n",
       "<!-- Generated by graphviz version 2.40.1 (20161225.0304)\n",
       " -->\n",
       "<!-- Title: %3 Pages: 1 -->\n",
       "<svg width=\"427pt\" height=\"355pt\"\n",
       " viewBox=\"0.00 0.00 427.00 354.86\" xmlns=\"http://www.w3.org/2000/svg\" xmlns:xlink=\"http://www.w3.org/1999/xlink\">\n",
       "<g id=\"graph0\" class=\"graph\" transform=\"scale(1 1) rotate(0) translate(4 350.86)\">\n",
       "<title>%3</title>\n",
       "<polygon fill=\"#ffffff\" stroke=\"transparent\" points=\"-4,4 -4,-350.86 423,-350.86 423,4 -4,4\"/>\n",
       "<g id=\"clust1\" class=\"cluster\">\n",
       "<title>cluster4</title>\n",
       "<path fill=\"none\" stroke=\"#000000\" d=\"M222,-129.9533C222,-129.9533 399,-129.9533 399,-129.9533 405,-129.9533 411,-135.9533 411,-141.9533 411,-141.9533 411,-231.9066 411,-231.9066 411,-237.9066 405,-243.9066 399,-243.9066 399,-243.9066 222,-243.9066 222,-243.9066 216,-243.9066 210,-237.9066 210,-231.9066 210,-231.9066 210,-141.9533 210,-141.9533 210,-135.9533 216,-129.9533 222,-129.9533\"/>\n",
       "<text text-anchor=\"middle\" x=\"399.5\" y=\"-137.7533\" font-family=\"Times,serif\" font-size=\"14.00\" fill=\"#000000\">4</text>\n",
       "</g>\n",
       "<g id=\"clust2\" class=\"cluster\">\n",
       "<title>cluster4 x 4</title>\n",
       "<path fill=\"none\" stroke=\"#000000\" d=\"M20,-129.9533C20,-129.9533 96,-129.9533 96,-129.9533 102,-129.9533 108,-135.9533 108,-141.9533 108,-141.9533 108,-231.9066 108,-231.9066 108,-237.9066 102,-243.9066 96,-243.9066 96,-243.9066 20,-243.9066 20,-243.9066 14,-243.9066 8,-237.9066 8,-231.9066 8,-231.9066 8,-141.9533 8,-141.9533 8,-135.9533 14,-129.9533 20,-129.9533\"/>\n",
       "<text text-anchor=\"middle\" x=\"86\" y=\"-137.7533\" font-family=\"Times,serif\" font-size=\"14.00\" fill=\"#000000\">4 x 4</text>\n",
       "</g>\n",
       "<g id=\"clust3\" class=\"cluster\">\n",
       "<title>cluster16</title>\n",
       "<path fill=\"none\" stroke=\"#000000\" d=\"M171,-8C171,-8 247,-8 247,-8 253,-8 259,-14 259,-20 259,-20 259,-109.9533 259,-109.9533 259,-115.9533 253,-121.9533 247,-121.9533 247,-121.9533 171,-121.9533 171,-121.9533 165,-121.9533 159,-115.9533 159,-109.9533 159,-109.9533 159,-20 159,-20 159,-14 165,-8 171,-8\"/>\n",
       "<text text-anchor=\"middle\" x=\"244\" y=\"-15.8\" font-family=\"Times,serif\" font-size=\"14.00\" fill=\"#000000\">16</text>\n",
       "</g>\n",
       "<!-- a1a2SD -->\n",
       "<g id=\"node1\" class=\"node\">\n",
       "<title>a1a2SD</title>\n",
       "<ellipse fill=\"none\" stroke=\"#000000\" cx=\"58\" cy=\"-309.3833\" rx=\"43.2674\" ry=\"37.4533\"/>\n",
       "<text text-anchor=\"middle\" x=\"58\" y=\"-320.6833\" font-family=\"Times,serif\" font-size=\"14.00\" fill=\"#000000\">a1a2SD</text>\n",
       "<text text-anchor=\"middle\" x=\"58\" y=\"-305.6833\" font-family=\"Times,serif\" font-size=\"14.00\" fill=\"#000000\">~</text>\n",
       "<text text-anchor=\"middle\" x=\"58\" y=\"-290.6833\" font-family=\"Times,serif\" font-size=\"14.00\" fill=\"#000000\">Gamma</text>\n",
       "</g>\n",
       "<!-- a1a2 -->\n",
       "<g id=\"node7\" class=\"node\">\n",
       "<title>a1a2</title>\n",
       "<ellipse fill=\"none\" stroke=\"#000000\" cx=\"58\" cy=\"-198.43\" rx=\"41.9398\" ry=\"37.4533\"/>\n",
       "<text text-anchor=\"middle\" x=\"58\" y=\"-209.73\" font-family=\"Times,serif\" font-size=\"14.00\" fill=\"#000000\">a1a2</text>\n",
       "<text text-anchor=\"middle\" x=\"58\" y=\"-194.73\" font-family=\"Times,serif\" font-size=\"14.00\" fill=\"#000000\">~</text>\n",
       "<text text-anchor=\"middle\" x=\"58\" y=\"-179.73\" font-family=\"Times,serif\" font-size=\"14.00\" fill=\"#000000\">Normal</text>\n",
       "</g>\n",
       "<!-- a1a2SD&#45;&gt;a1a2 -->\n",
       "<g id=\"edge3\" class=\"edge\">\n",
       "<title>a1a2SD&#45;&gt;a1a2</title>\n",
       "<path fill=\"none\" stroke=\"#000000\" d=\"M58,-271.8196C58,-263.5956 58,-254.7834 58,-246.2203\"/>\n",
       "<polygon fill=\"#000000\" stroke=\"#000000\" points=\"61.5001,-245.955 58,-235.955 54.5001,-245.9551 61.5001,-245.955\"/>\n",
       "</g>\n",
       "<!-- a0 -->\n",
       "<g id=\"node2\" class=\"node\">\n",
       "<title>a0</title>\n",
       "<ellipse fill=\"none\" stroke=\"#000000\" cx=\"159\" cy=\"-198.43\" rx=\"41.9398\" ry=\"37.4533\"/>\n",
       "<text text-anchor=\"middle\" x=\"159\" y=\"-209.73\" font-family=\"Times,serif\" font-size=\"14.00\" fill=\"#000000\">a0</text>\n",
       "<text text-anchor=\"middle\" x=\"159\" y=\"-194.73\" font-family=\"Times,serif\" font-size=\"14.00\" fill=\"#000000\">~</text>\n",
       "<text text-anchor=\"middle\" x=\"159\" y=\"-179.73\" font-family=\"Times,serif\" font-size=\"14.00\" fill=\"#000000\">Normal</text>\n",
       "</g>\n",
       "<!-- y -->\n",
       "<g id=\"node8\" class=\"node\">\n",
       "<title>y</title>\n",
       "<ellipse fill=\"#d3d3d3\" stroke=\"#000000\" cx=\"209\" cy=\"-76.4767\" rx=\"41.9398\" ry=\"37.4533\"/>\n",
       "<text text-anchor=\"middle\" x=\"209\" y=\"-87.7767\" font-family=\"Times,serif\" font-size=\"14.00\" fill=\"#000000\">y</text>\n",
       "<text text-anchor=\"middle\" x=\"209\" y=\"-72.7767\" font-family=\"Times,serif\" font-size=\"14.00\" fill=\"#000000\">~</text>\n",
       "<text text-anchor=\"middle\" x=\"209\" y=\"-57.7767\" font-family=\"Times,serif\" font-size=\"14.00\" fill=\"#000000\">Poisson</text>\n",
       "</g>\n",
       "<!-- a0&#45;&gt;y -->\n",
       "<g id=\"edge5\" class=\"edge\">\n",
       "<title>a0&#45;&gt;y</title>\n",
       "<path fill=\"none\" stroke=\"#000000\" d=\"M173.4621,-163.156C178.8518,-150.01 185.0415,-134.9131 190.7291,-121.0407\"/>\n",
       "<polygon fill=\"#000000\" stroke=\"#000000\" points=\"194.0153,-122.2516 194.5704,-111.6713 187.5385,-119.5961 194.0153,-122.2516\"/>\n",
       "</g>\n",
       "<!-- a2SD -->\n",
       "<g id=\"node3\" class=\"node\">\n",
       "<title>a2SD</title>\n",
       "<ellipse fill=\"none\" stroke=\"#000000\" cx=\"258\" cy=\"-309.3833\" rx=\"43.2674\" ry=\"37.4533\"/>\n",
       "<text text-anchor=\"middle\" x=\"258\" y=\"-320.6833\" font-family=\"Times,serif\" font-size=\"14.00\" fill=\"#000000\">a2SD</text>\n",
       "<text text-anchor=\"middle\" x=\"258\" y=\"-305.6833\" font-family=\"Times,serif\" font-size=\"14.00\" fill=\"#000000\">~</text>\n",
       "<text text-anchor=\"middle\" x=\"258\" y=\"-290.6833\" font-family=\"Times,serif\" font-size=\"14.00\" fill=\"#000000\">Gamma</text>\n",
       "</g>\n",
       "<!-- a2 -->\n",
       "<g id=\"node5\" class=\"node\">\n",
       "<title>a2</title>\n",
       "<ellipse fill=\"none\" stroke=\"#000000\" cx=\"260\" cy=\"-198.43\" rx=\"41.9398\" ry=\"37.4533\"/>\n",
       "<text text-anchor=\"middle\" x=\"260\" y=\"-209.73\" font-family=\"Times,serif\" font-size=\"14.00\" fill=\"#000000\">a2</text>\n",
       "<text text-anchor=\"middle\" x=\"260\" y=\"-194.73\" font-family=\"Times,serif\" font-size=\"14.00\" fill=\"#000000\">~</text>\n",
       "<text text-anchor=\"middle\" x=\"260\" y=\"-179.73\" font-family=\"Times,serif\" font-size=\"14.00\" fill=\"#000000\">Normal</text>\n",
       "</g>\n",
       "<!-- a2SD&#45;&gt;a2 -->\n",
       "<g id=\"edge2\" class=\"edge\">\n",
       "<title>a2SD&#45;&gt;a2</title>\n",
       "<path fill=\"none\" stroke=\"#000000\" d=\"M258.6771,-271.8196C258.8253,-263.5956 258.9842,-254.7834 259.1386,-246.2203\"/>\n",
       "<polygon fill=\"#000000\" stroke=\"#000000\" points=\"262.6427,-246.0165 259.3236,-235.955 255.6438,-245.8903 262.6427,-246.0165\"/>\n",
       "</g>\n",
       "<!-- a1SD -->\n",
       "<g id=\"node4\" class=\"node\">\n",
       "<title>a1SD</title>\n",
       "<ellipse fill=\"none\" stroke=\"#000000\" cx=\"362\" cy=\"-309.3833\" rx=\"43.2674\" ry=\"37.4533\"/>\n",
       "<text text-anchor=\"middle\" x=\"362\" y=\"-320.6833\" font-family=\"Times,serif\" font-size=\"14.00\" fill=\"#000000\">a1SD</text>\n",
       "<text text-anchor=\"middle\" x=\"362\" y=\"-305.6833\" font-family=\"Times,serif\" font-size=\"14.00\" fill=\"#000000\">~</text>\n",
       "<text text-anchor=\"middle\" x=\"362\" y=\"-290.6833\" font-family=\"Times,serif\" font-size=\"14.00\" fill=\"#000000\">Gamma</text>\n",
       "</g>\n",
       "<!-- a1 -->\n",
       "<g id=\"node6\" class=\"node\">\n",
       "<title>a1</title>\n",
       "<ellipse fill=\"none\" stroke=\"#000000\" cx=\"361\" cy=\"-198.43\" rx=\"41.9398\" ry=\"37.4533\"/>\n",
       "<text text-anchor=\"middle\" x=\"361\" y=\"-209.73\" font-family=\"Times,serif\" font-size=\"14.00\" fill=\"#000000\">a1</text>\n",
       "<text text-anchor=\"middle\" x=\"361\" y=\"-194.73\" font-family=\"Times,serif\" font-size=\"14.00\" fill=\"#000000\">~</text>\n",
       "<text text-anchor=\"middle\" x=\"361\" y=\"-179.73\" font-family=\"Times,serif\" font-size=\"14.00\" fill=\"#000000\">Normal</text>\n",
       "</g>\n",
       "<!-- a1SD&#45;&gt;a1 -->\n",
       "<g id=\"edge1\" class=\"edge\">\n",
       "<title>a1SD&#45;&gt;a1</title>\n",
       "<path fill=\"none\" stroke=\"#000000\" d=\"M361.6614,-271.8196C361.5873,-263.5956 361.5079,-254.7834 361.4307,-246.2203\"/>\n",
       "<polygon fill=\"#000000\" stroke=\"#000000\" points=\"364.9283,-245.923 361.3382,-235.955 357.9286,-245.9862 364.9283,-245.923\"/>\n",
       "</g>\n",
       "<!-- a2&#45;&gt;y -->\n",
       "<g id=\"edge6\" class=\"edge\">\n",
       "<title>a2&#45;&gt;y</title>\n",
       "<path fill=\"none\" stroke=\"#000000\" d=\"M245.2487,-163.156C239.7511,-150.01 233.4377,-134.9131 227.6363,-121.0407\"/>\n",
       "<polygon fill=\"#000000\" stroke=\"#000000\" points=\"230.8054,-119.5467 223.7182,-111.6713 224.3473,-122.2475 230.8054,-119.5467\"/>\n",
       "</g>\n",
       "<!-- a1&#45;&gt;y -->\n",
       "<g id=\"edge4\" class=\"edge\">\n",
       "<title>a1&#45;&gt;y</title>\n",
       "<path fill=\"none\" stroke=\"#000000\" d=\"M341.3141,-165.2472C333.0208,-153.1252 322.5948,-139.9496 311,-129.9533 295.0093,-116.1673 274.8563,-104.6557 256.6952,-95.8879\"/>\n",
       "<polygon fill=\"#000000\" stroke=\"#000000\" points=\"257.9543,-92.6131 247.4123,-91.5554 254.9938,-98.9562 257.9543,-92.6131\"/>\n",
       "</g>\n",
       "<!-- a1a2&#45;&gt;y -->\n",
       "<g id=\"edge7\" class=\"edge\">\n",
       "<title>a1a2&#45;&gt;y</title>\n",
       "<path fill=\"none\" stroke=\"#000000\" d=\"M77.7075,-165.2721C86.0033,-153.1531 96.4255,-139.9731 108,-129.9533 123.7123,-116.3516 143.4749,-104.9279 161.3433,-96.1771\"/>\n",
       "<polygon fill=\"#000000\" stroke=\"#000000\" points=\"162.9444,-99.2915 170.4831,-91.8472 159.9474,-92.9655 162.9444,-99.2915\"/>\n",
       "</g>\n",
       "</g>\n",
       "</svg>\n"
      ],
      "text/plain": [
       "<graphviz.dot.Digraph at 0x7f7d26d092d0>"
      ]
     },
     "execution_count": 7,
     "metadata": {},
     "output_type": "execute_result"
    }
   ],
   "source": [
    "y = df.Count\n",
    "x1 = df.Eye.cat.codes.values\n",
    "x2 = df.Hair.cat.codes.values\n",
    "Nx1Lvl = len(df.Eye.cat.categories)\n",
    "Nx2Lvl = len(df.Hair.cat.categories)\n",
    "Ncell = df.Count.size\n",
    "\n",
    "yLogMean = np.log(np.sum(y)/(Nx1Lvl*Nx2Lvl))\n",
    "yLogSD = np.log(np.std(np.r_[np.repeat([0], Ncell-1), np.sum(y)], ddof=1))\n",
    "agammaShRa = gammaShRaFromModeSD(yLogSD, 2*yLogSD)\n",
    "\n",
    "with pm.Model() as poisson_model:\n",
    "        a0 = pm.Normal('a0', yLogMean, tau=1/(yLogSD*2)**2)\n",
    "\n",
    "        a1SD = pm.Gamma('a1SD', agammaShRa[0], agammaShRa[1])\n",
    "        a1 = pm.Normal('a1', 0.0, tau=1/a1SD**2, shape=Nx1Lvl)\n",
    "        \n",
    "        a2SD = pm.Gamma('a2SD', agammaShRa[0], agammaShRa[1])\n",
    "        a2 = pm.Normal('a2', 0.0, tau=1/a2SD**2, shape=Nx2Lvl)\n",
    "        \n",
    "        a1a2SD = pm.Gamma('a1a2SD', agammaShRa[0], agammaShRa[1])\n",
    "        a1a2 = pm.Normal('a1a2', 0.0, 1/a1a2SD**2, shape=(Nx1Lvl, Nx2Lvl))\n",
    "        \n",
    "        lmbda = pm.math.exp(a0 + a1[x1] + a2[x2] + a1a2[x1, x2])\n",
    "        \n",
    "        like = pm.Poisson('y', lmbda, observed=y)\n",
    "        \n",
    "pm.model_to_graphviz(poisson_model)"
   ]
  },
  {
   "cell_type": "code",
   "execution_count": 9,
   "metadata": {},
   "outputs": [
    {
     "name": "stderr",
     "output_type": "stream",
     "text": [
      "Auto-assigning NUTS sampler...\n",
      "Initializing NUTS using jitter+adapt_diag...\n",
      "Multiprocess sampling (4 chains in 4 jobs)\n",
      "NUTS: [a1a2, a1a2SD, a2, a2SD, a1, a1SD, a0]\n"
     ]
    },
    {
     "data": {
      "text/html": [
       "\n",
       "    <div>\n",
       "        <style>\n",
       "            /* Turns off some styling */\n",
       "            progress {\n",
       "                /* gets rid of default border in Firefox and Opera. */\n",
       "                border: none;\n",
       "                /* Needs to be in here for Safari polyfill so background images work as expected. */\n",
       "                background-size: auto;\n",
       "            }\n",
       "            .progress-bar-interrupted, .progress-bar-interrupted::-webkit-progress-bar {\n",
       "                background: #F44336;\n",
       "            }\n",
       "        </style>\n",
       "      <progress value='16000' class='' max='16000' style='width:300px; height:20px; vertical-align: middle;'></progress>\n",
       "      100.00% [16000/16000 01:03<00:00 Sampling 4 chains, 4,729 divergences]\n",
       "    </div>\n",
       "    "
      ],
      "text/plain": [
       "<IPython.core.display.HTML object>"
      ]
     },
     "metadata": {},
     "output_type": "display_data"
    },
    {
     "name": "stderr",
     "output_type": "stream",
     "text": [
      "/home/yndk/.local/lib/python3.7/site-packages/pymc3/math.py:246: RuntimeWarning: divide by zero encountered in log1p\n",
      "  return np.where(x < 0.6931471805599453, np.log(-np.expm1(-x)), np.log1p(-np.exp(-x)))\n",
      "/home/yndk/.local/lib/python3.7/site-packages/pymc3/math.py:246: RuntimeWarning: divide by zero encountered in log1p\n",
      "  return np.where(x < 0.6931471805599453, np.log(-np.expm1(-x)), np.log1p(-np.exp(-x)))\n",
      "/home/yndk/.local/lib/python3.7/site-packages/pymc3/math.py:246: RuntimeWarning: divide by zero encountered in log1p\n",
      "  return np.where(x < 0.6931471805599453, np.log(-np.expm1(-x)), np.log1p(-np.exp(-x)))\n",
      "/home/yndk/.local/lib/python3.7/site-packages/pymc3/math.py:246: RuntimeWarning: divide by zero encountered in log1p\n",
      "  return np.where(x < 0.6931471805599453, np.log(-np.expm1(-x)), np.log1p(-np.exp(-x)))\n",
      "Sampling 4 chains for 1_000 tune and 3_000 draw iterations (4_000 + 12_000 draws total) took 63 seconds.\n",
      "There were 2141 divergences after tuning. Increase `target_accept` or reparameterize.\n",
      "The acceptance probability does not match the target. It is 0.5562257889113812, but should be close to 0.8. Try to increase the number of tuning steps.\n",
      "There were 2576 divergences after tuning. Increase `target_accept` or reparameterize.\n",
      "The acceptance probability does not match the target. It is 0.40571101828784734, but should be close to 0.8. Try to increase the number of tuning steps.\n",
      "There were 12 divergences after tuning. Increase `target_accept` or reparameterize.\n",
      "The acceptance probability does not match the target. It is 0.8972998516051084, but should be close to 0.8. Try to increase the number of tuning steps.\n",
      "The rhat statistic is larger than 1.05 for some parameters. This indicates slight problems during sampling.\n",
      "The estimated number of effective samples is smaller than 200 for some parameters.\n"
     ]
    }
   ],
   "source": [
    "n_samples = 3000\n",
    "with poisson_model:\n",
    "    trace1 = pm.sample(n_samples, cores=4)"
   ]
  },
  {
   "cell_type": "code",
   "execution_count": null,
   "metadata": {},
   "outputs": [],
   "source": [
    "pm.traceplot(trace1);"
   ]
  },
  {
   "cell_type": "code",
   "execution_count": null,
   "metadata": {},
   "outputs": [],
   "source": [
    "# Transforming the trace data to sum-to-zero values\n",
    "m = np.zeros((Nx1Lvl,Nx2Lvl, trace1.nchains*n_samples))\n",
    "b1b2 = m.copy()\n",
    "\n",
    "for (j1,j2) in np.ndindex(Nx1Lvl,Nx2Lvl):\n",
    "        m[j1,j2] =  (trace1['a0'] +\n",
    "                     trace1['a1'][:,j1] +\n",
    "                     trace1['a2'][:,j2] +\n",
    "                     trace1['a1a2'][:,j1,j2])\n",
    "\n",
    "b0 = np.mean(m, axis=(0,1))\n",
    "b1 = np.mean(m, axis=1) - b0\n",
    "b2 = np.mean(m, axis=0) - b0\n",
    "        \n",
    "for (j1,j2) in np.ndindex(Nx1Lvl,Nx2Lvl):\n",
    "        b1b2[j1,j2] =  (m[j1,j2] - (b0 + b1[j1] + b2[j2]))\n",
    "\n",
    "# Compute predicted proportions\n",
    "expm = np.exp(m)\n",
    "ppx1x2p = expm/np.sum(expm, axis=(0,1))"
   ]
  },
  {
   "cell_type": "markdown",
   "metadata": {},
   "source": [
    "#### Figure 24.3"
   ]
  },
  {
   "cell_type": "code",
   "execution_count": null,
   "metadata": {},
   "outputs": [],
   "source": [
    "# Define gridspec\n",
    "fig, axes = plt.subplots(4,4, figsize=(18,12))\n",
    "for (r, c), ax in np.ndenumerate(axes):\n",
    "    ax = pm.plot_posterior(ppx1x2p[r,c,:], point_estimate='mode', color=color, ax=ax)\n",
    "    ax.scatter(df_pivot['Prop'].iloc[r,c], 0, s=60, c='r', marker='^', zorder=5)\n",
    "    ax.set_title('Eye:{}  Hair:{},\\nN={}'.format(df_pivot.index[r],\n",
    "                                                df_pivot['Count'].columns[c],\n",
    "                                                df_pivot['Count'].iloc[r,c]),\n",
    "                 fontdict=f_dict)\n",
    "    ax.set_xlim(left=.0, right=.25)\n",
    "    ax.set_xlabel('Proportion')\n",
    "fig.tight_layout(pad=1.7);"
   ]
  },
  {
   "cell_type": "code",
   "execution_count": null,
   "metadata": {},
   "outputs": [],
   "source": [
    "fig, (ax1, ax2, ax3) = plt.subplots(1,3, figsize=(15,3))\n",
    "\n",
    "blue_black = b1b2[0,0]\n",
    "brown_black = b1b2[1,0]\n",
    "blue_blond = b1b2[0,1]\n",
    "brown_blond = b1b2[1,1]\n",
    "\n",
    "# [1] Deflection difference between blue and brown eyes, for black hair\n",
    "pm.plot_posterior(blue_black - brown_black, point_estimate='mode', color=color, ax=ax1)\n",
    "ax1.set_title('Blue - Brown @ Black', fontdict=f_dict)\n",
    "ax1.set_xlim(-2,0)\n",
    "\n",
    "# [2] Deflection difference between blue and brown eyes, for blond hair\n",
    "pm.plot_posterior(blue_blond - brown_blond, point_estimate='mode', color=color, ax=ax2)\n",
    "ax2.set_title('Blue - Brown @ Blond', fontdict=f_dict)\n",
    "ax2.set_xlim(0,3.5)\n",
    "\n",
    "for ax in [ax1, ax2]:\n",
    "    ax.set_xlabel('Beta Deflect. Diff.', fontdict=f_dict)\n",
    "# [3] Difference of differences: [1] - [2]\n",
    "pm.plot_posterior((blue_black - brown_black) - (blue_blond - brown_blond),\n",
    "                  point_estimate='mode', color=color, ax=ax3)\n",
    "ax3.set_title('Blue.v.Brown \\n (x) \\n Black.v.Blond', fontdict=f_dict)\n",
    "ax3.set_xlim(-5,0)\n",
    "ax3.set_xlabel('Beta Deflect. Diff. of Diff.');"
   ]
  }
 ],
 "metadata": {
  "anaconda-cloud": {},
  "kernelspec": {
   "display_name": "Python 3",
   "language": "python",
   "name": "python3"
  },
  "language_info": {
   "codemirror_mode": {
    "name": "ipython",
    "version": 3
   },
   "file_extension": ".py",
   "mimetype": "text/x-python",
   "name": "python",
   "nbconvert_exporter": "python",
   "pygments_lexer": "ipython3",
   "version": "3.7.5"
  }
 },
 "nbformat": 4,
 "nbformat_minor": 4
}
