{
 "cells": [
  {
   "cell_type": "markdown",
   "id": "orange-highland",
   "metadata": {},
   "source": [
    "# Basics of Numpyro for Bayesian Inference with MCMC "
   ]
  },
  {
   "cell_type": "code",
   "execution_count": 10,
   "id": "hybrid-knowing",
   "metadata": {},
   "outputs": [],
   "source": [
    "import math\n",
    "import os\n",
    "\n",
    "import arviz as az\n",
    "import matplotlib.pyplot as plt\n",
    "import pandas as pd\n",
    "from causalgraphicalmodels import CausalGraphicalModel\n",
    "from IPython.display import Image, set_matplotlib_formats\n",
    "from matplotlib.patches import Ellipse, transforms\n",
    "\n",
    "import jax\n",
    "import jax.numpy as jnp  # numpy, superfast\n",
    "from jax import ops, random, vmap\n",
    "from jax.scipy.special import expit\n",
    "\n",
    "import numpy as onp       # the numpy, original\n",
    "\n",
    "import numpyro as numpyro\n",
    "import numpyro as npr\n",
    "import numpyro.distributions as dist\n",
    "from numpyro.diagnostics import effective_sample_size, print_summary\n",
    "from numpyro.infer import MCMC, NUTS, Predictive\n",
    "\n",
    "if \"SVG\" in os.environ:\n",
    "    %config InlineBackend.figure_formats = [\"svg\"]\n",
    "az.style.use(\"arviz-darkgrid\")\n",
    "numpyro.set_host_device_count(4)"
   ]
  },
  {
   "cell_type": "markdown",
   "id": "through-budapest",
   "metadata": {},
   "source": [
    "## Distributions"
   ]
  },
  {
   "cell_type": "code",
   "execution_count": 2,
   "id": "stainless-strategy",
   "metadata": {},
   "outputs": [],
   "source": [
    "b = dist.Bernoulli(0.3)\n",
    "\n",
    "random_samples = b.sample(random.PRNGKey(0), (1000,))"
   ]
  },
  {
   "cell_type": "code",
   "execution_count": 3,
   "id": "intermediate-screening",
   "metadata": {},
   "outputs": [],
   "source": [
    "with numpyro.handlers.seed(rng_seed=0):\n",
    "    x = npr.sample('x', dist.Bernoulli(.3))"
   ]
  },
  {
   "cell_type": "code",
   "execution_count": 4,
   "id": "conditional-completion",
   "metadata": {},
   "outputs": [
    {
     "data": {
      "text/plain": [
       "DeviceArray(1, dtype=int32)"
      ]
     },
     "execution_count": 4,
     "metadata": {},
     "output_type": "execute_result"
    }
   ],
   "source": [
    "x"
   ]
  },
  {
   "cell_type": "code",
   "execution_count": 5,
   "id": "uniform-silicon",
   "metadata": {},
   "outputs": [
    {
     "data": {
      "text/plain": [
       "1"
      ]
     },
     "execution_count": 5,
     "metadata": {},
     "output_type": "execute_result"
    }
   ],
   "source": [
    "x.item()"
   ]
  },
  {
   "cell_type": "code",
   "execution_count": 6,
   "id": "premium-knife",
   "metadata": {},
   "outputs": [
    {
     "data": {
      "text/plain": [
       "DeviceArray(100, dtype=int32)"
      ]
     },
     "execution_count": 6,
     "metadata": {},
     "output_type": "execute_result"
    }
   ],
   "source": [
    "x * 100"
   ]
  },
  {
   "cell_type": "code",
   "execution_count": 7,
   "id": "scheduled-grass",
   "metadata": {},
   "outputs": [
    {
     "data": {
      "text/plain": [
       "jax.interpreters.xla._DeviceArray"
      ]
     },
     "execution_count": 7,
     "metadata": {},
     "output_type": "execute_result"
    }
   ],
   "source": [
    "type(x)"
   ]
  },
  {
   "cell_type": "code",
   "execution_count": 8,
   "id": "returning-writer",
   "metadata": {},
   "outputs": [
    {
     "data": {
      "text/plain": [
       "DeviceArray([ 1.1378783, -2.44191  , -2.3661458], dtype=float32)"
      ]
     },
     "execution_count": 8,
     "metadata": {},
     "output_type": "execute_result"
    }
   ],
   "source": [
    "with numpyro.handlers.seed(rng_seed=0):\n",
    "    x = npr.sample('x', dist.Normal(0, jnp.array([1,2,4])))\n",
    "x"
   ]
  },
  {
   "cell_type": "code",
   "execution_count": 34,
   "id": "operating-calibration",
   "metadata": {},
   "outputs": [
    {
     "name": "stdout",
     "output_type": "stream",
     "text": [
      "[0.5 1.5 2.5] (3,)\n",
      "cdfs (3, 7) [[0.69146246 0.69146246 0.69146246 0.69146246 0.69146246 0.69146246\n",
      "  0.69146246]\n",
      " [0.9331928  0.9331928  0.9331928  0.9331928  0.9331928  0.9331928\n",
      "  0.9331928 ]\n",
      " [0.9937903  0.9937903  0.9937903  0.9937903  0.9937903  0.9937903\n",
      "  0.9937903 ]]\n"
     ]
    }
   ],
   "source": [
    "nYlevels=4\n",
    "cuts = jnp.array([i+.5 for i in range(nYlevels-1)])\n",
    "print(cuts, cuts.shape)\n",
    "mu = jnp.array([0]*7)\n",
    "sigma = 1\n",
    "cdfs = jax.scipy.stats.norm.cdf(cuts.reshape(-1,1), mu, sigma)\n",
    "print('cdfs', cdfs.shape, cdfs)"
   ]
  },
  {
   "cell_type": "code",
   "execution_count": 37,
   "id": "accompanied-looking",
   "metadata": {},
   "outputs": [
    {
     "data": {
      "text/plain": [
       "((4, 7),\n",
       " DeviceArray([[0.69146246, 0.69146246, 0.69146246, 0.69146246, 0.69146246,\n",
       "               0.69146246, 0.69146246],\n",
       "              [0.9331928 , 0.9331928 , 0.9331928 , 0.9331928 , 0.9331928 ,\n",
       "               0.9331928 , 0.9331928 ],\n",
       "              [0.9937903 , 0.9937903 , 0.9937903 , 0.9937903 , 0.9937903 ,\n",
       "               0.9937903 , 0.9937903 ],\n",
       "              [1.        , 1.        , 1.        , 1.        , 1.        ,\n",
       "               1.        , 1.        ]], dtype=float32))"
      ]
     },
     "execution_count": 37,
     "metadata": {},
     "output_type": "execute_result"
    }
   ],
   "source": [
    "cdfs1 = jnp.concatenate( (cdfs, jnp.array([[1.]*mu.shape[0]])) )\n",
    "cdfs1.shape, cdfs1"
   ]
  },
  {
   "cell_type": "code",
   "execution_count": 38,
   "id": "multiple-pierre",
   "metadata": {},
   "outputs": [
    {
     "data": {
      "text/plain": [
       "array([[ 1.,  0.,  0.,  0.],\n",
       "       [-1.,  1.,  0.,  0.],\n",
       "       [ 0., -1.,  1.,  0.],\n",
       "       [ 0.,  0., -1.,  1.]])"
      ]
     },
     "execution_count": 38,
     "metadata": {},
     "output_type": "execute_result"
    }
   ],
   "source": [
    "import numpy as np\n",
    "def getAmat(nYlevels):\n",
    "    a = np.eye(nYlevels)\n",
    "    for j in range(a.shape[0]-1):\n",
    "        a[j+1,j] = -1 \n",
    "    return np.array(a)\n",
    "Amat = getAmat(nYlevels)\n",
    "Amat"
   ]
  },
  {
   "cell_type": "code",
   "execution_count": 48,
   "id": "growing-commodity",
   "metadata": {},
   "outputs": [
    {
     "data": {
      "text/plain": [
       "DeviceArray([[0.69146246, 0.69146246, 0.69146246, 0.69146246, 0.69146246,\n",
       "              0.69146246, 0.69146246],\n",
       "             [0.24173033, 0.24173033, 0.24173033, 0.24173033, 0.24173033,\n",
       "              0.24173033, 0.24173033],\n",
       "             [0.06059754, 0.06059754, 0.06059754, 0.06059754, 0.06059754,\n",
       "              0.06059754, 0.06059754],\n",
       "             [0.00620967, 0.00620967, 0.00620967, 0.00620967, 0.00620967,\n",
       "              0.00620967, 0.00620967]], dtype=float32)"
      ]
     },
     "execution_count": 48,
     "metadata": {},
     "output_type": "execute_result"
    }
   ],
   "source": [
    "diff = jnp.dot(Amat, cdfs1)\n",
    "diff"
   ]
  },
  {
   "cell_type": "code",
   "execution_count": 49,
   "id": "actual-degree",
   "metadata": {},
   "outputs": [
    {
     "data": {
      "text/plain": [
       "DeviceArray([1., 1., 1., 1., 1., 1., 1.], dtype=float32)"
      ]
     },
     "execution_count": 49,
     "metadata": {},
     "output_type": "execute_result"
    }
   ],
   "source": [
    "diff.sum(axis=0)"
   ]
  },
  {
   "cell_type": "code",
   "execution_count": 50,
   "id": "creative-johnston",
   "metadata": {},
   "outputs": [
    {
     "data": {
      "text/plain": [
       "DeviceArray([1., 1., 1., 1., 1., 1., 1.], dtype=float32)"
      ]
     },
     "execution_count": 50,
     "metadata": {},
     "output_type": "execute_result"
    }
   ],
   "source": [
    "max0 = jnp.maximum(0, diff)\n",
    "max0.sum(axis=0)"
   ]
  },
  {
   "cell_type": "code",
   "execution_count": 51,
   "id": "boxed-heath",
   "metadata": {},
   "outputs": [],
   "source": [
    "probs = max0 / max0.sum(axis=0)"
   ]
  },
  {
   "cell_type": "code",
   "execution_count": 58,
   "id": "narrative-authorization",
   "metadata": {},
   "outputs": [
    {
     "data": {
      "text/plain": [
       "(DeviceArray([[0.69146246, 0.69146246, 0.69146246, 0.69146246, 0.69146246,\n",
       "               0.69146246, 0.69146246],\n",
       "              [0.24173033, 0.24173033, 0.24173033, 0.24173033, 0.24173033,\n",
       "               0.24173033, 0.24173033],\n",
       "              [0.06059754, 0.06059754, 0.06059754, 0.06059754, 0.06059754,\n",
       "               0.06059754, 0.06059754],\n",
       "              [0.00620967, 0.00620967, 0.00620967, 0.00620967, 0.00620967,\n",
       "               0.00620967, 0.00620967]], dtype=float32),\n",
       " (4, 7))"
      ]
     },
     "execution_count": 58,
     "metadata": {},
     "output_type": "execute_result"
    }
   ],
   "source": [
    "probs, probs.shape"
   ]
  },
  {
   "cell_type": "code",
   "execution_count": 60,
   "id": "strategic-collective",
   "metadata": {},
   "outputs": [
    {
     "name": "stdout",
     "output_type": "stream",
     "text": [
      "[0 0 0 2 0 0 0]\n"
     ]
    }
   ],
   "source": [
    "with numpyro.handlers.seed(rng_seed=0):\n",
    "    s = numpyro.sample('obs', dist.Categorical(probs.T))\n",
    "    print(s)"
   ]
  },
  {
   "cell_type": "code",
   "execution_count": null,
   "id": "affiliated-running",
   "metadata": {},
   "outputs": [],
   "source": []
  }
 ],
 "metadata": {
  "kernelspec": {
   "display_name": "Python 3",
   "language": "python",
   "name": "python3"
  },
  "language_info": {
   "codemirror_mode": {
    "name": "ipython",
    "version": 3
   },
   "file_extension": ".py",
   "mimetype": "text/x-python",
   "name": "python",
   "nbconvert_exporter": "python",
   "pygments_lexer": "ipython3",
   "version": "3.7.5"
  }
 },
 "nbformat": 4,
 "nbformat_minor": 5
}
