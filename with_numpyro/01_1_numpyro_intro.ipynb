{
 "cells": [
  {
   "cell_type": "code",
   "execution_count": 1,
   "id": "christian-bahamas",
   "metadata": {},
   "outputs": [
    {
     "data": {
      "text/plain": [
       "'3.8.0 (default, Oct 28 2019, 16:14:01) \\n[GCC 8.3.0]'"
      ]
     },
     "execution_count": 1,
     "metadata": {},
     "output_type": "execute_result"
    }
   ],
   "source": [
    "import sys\n",
    "sys.version"
   ]
  },
  {
   "cell_type": "code",
   "execution_count": 4,
   "id": "still-maryland",
   "metadata": {},
   "outputs": [],
   "source": [
    "import numpyro as npr\n",
    "import numpyro.distributions as dist\n",
    "from numpyro.infer import MCMC, NUTS\n",
    "from jax import numpy as np, random"
   ]
  },
  {
   "cell_type": "code",
   "execution_count": 5,
   "id": "stock-suicide",
   "metadata": {},
   "outputs": [],
   "source": [
    "J = 8\n",
    "y = np.array([28.0, 8.0, -3.0, 7.0, -1.0, 1.0, 18.0, 12.0])\n",
    "sigma = np.array([15.0, 10.0, 16.0, 11.0, 9.0, 11.0, 10.0, 18.0])"
   ]
  },
  {
   "cell_type": "markdown",
   "id": "original-prior",
   "metadata": {},
   "source": [
    "## A general way of building a hierarchical model"
   ]
  },
  {
   "cell_type": "code",
   "execution_count": 6,
   "id": "individual-native",
   "metadata": {},
   "outputs": [],
   "source": [
    "def eight_schools(J, sigma, y=None):\n",
    "    mu = npr.sample('mu', dist.Normal(0,5))\n",
    "    tau = npr.sample('tau', dist.HalfCauchy(5))\n",
    "    with npr.plate('J', J):\n",
    "        theta = npr.sample('theta', dist.Normal(mu, tau))\n",
    "        obs = npr.sample('obs', dist.Normal(theta, sigma), obs=y)"
   ]
  },
  {
   "cell_type": "code",
   "execution_count": 7,
   "id": "collaborative-stadium",
   "metadata": {},
   "outputs": [
    {
     "name": "stderr",
     "output_type": "stream",
     "text": [
      "sample: 100%|██████████| 3000/3000 [00:07<00:00, 427.79it/s, 15 steps of size 1.82e-01. acc. prob=0.79]\n"
     ]
    }
   ],
   "source": [
    "mcmc = MCMC(NUTS(eight_schools), num_warmup=1000, num_samples=2000)\n",
    "\n",
    "data = dict(J=J, sigma=sigma, y=y)\n",
    "mcmc.run(random.PRNGKey(0), \n",
    "         **data, \n",
    "         extra_fields=('potential_energy',))"
   ]
  },
  {
   "cell_type": "code",
   "execution_count": 8,
   "id": "robust-humanity",
   "metadata": {},
   "outputs": [
    {
     "name": "stdout",
     "output_type": "stream",
     "text": [
      "\n",
      "                mean       std    median      5.0%     95.0%     n_eff     r_hat\n",
      "        mu      4.42      3.21      4.30     -0.67      9.74    260.87      1.00\n",
      "       tau      4.18      3.36      3.23      0.79      8.51    102.55      1.02\n",
      "  theta[0]      6.54      6.02      5.99     -1.94     16.42    377.20      1.00\n",
      "  theta[1]      4.96      4.69      4.80     -2.71     11.76    615.30      1.00\n",
      "  theta[2]      3.70      5.50      3.88     -4.28     12.44    512.40      1.00\n",
      "  theta[3]      4.83      5.14      4.69     -3.10     13.09    666.13      1.00\n",
      "  theta[4]      3.57      4.81      3.70     -3.82     11.19    407.00      1.00\n",
      "  theta[5]      4.13      4.98      4.03     -3.78     12.18    494.42      1.00\n",
      "  theta[6]      6.76      5.39      6.24     -1.99     15.01    299.08      1.00\n",
      "  theta[7]      4.94      5.53      4.72     -3.20     14.41    589.27      1.00\n",
      "\n",
      "Number of divergences: 56\n"
     ]
    }
   ],
   "source": [
    "mcmc.print_summary()"
   ]
  },
  {
   "cell_type": "code",
   "execution_count": 9,
   "id": "acting-cooperative",
   "metadata": {},
   "outputs": [
    {
     "data": {
      "text/plain": [
       "{'diverging': DeviceArray([False, False, False, ..., False, False, False], dtype=bool),\n",
       " 'potential_energy': DeviceArray([52.17198 , 53.72358 , 55.03537 , ..., 51.379787, 52.664917,\n",
       "              57.926353], dtype=float32)}"
      ]
     },
     "execution_count": 9,
     "metadata": {},
     "output_type": "execute_result"
    }
   ],
   "source": [
    "pe = mcmc.get_extra_fields()\n",
    "pe"
   ]
  },
  {
   "cell_type": "code",
   "execution_count": 11,
   "id": "serious-diversity",
   "metadata": {},
   "outputs": [
    {
     "name": "stdout",
     "output_type": "stream",
     "text": [
      "Expected log joint density =  -55.079952\n"
     ]
    }
   ],
   "source": [
    "print('Expected log joint density = ', -pe['potential_energy'].mean())"
   ]
  },
  {
   "cell_type": "markdown",
   "id": "primary-chemistry",
   "metadata": {},
   "source": [
    "## Non-Centered Parameterization"
   ]
  },
  {
   "cell_type": "markdown",
   "id": "monthly-metro",
   "metadata": {},
   "source": [
    "### TransformReparam"
   ]
  },
  {
   "cell_type": "code",
   "execution_count": 12,
   "id": "gentle-doctor",
   "metadata": {},
   "outputs": [],
   "source": [
    "from numpyro.infer.reparam import TransformReparam\n",
    "\n",
    "def eight_schools_noncentered(J, sigma, y=None):\n",
    "    mu = npr.sample('mu', dist.Normal(0,5))\n",
    "    tau = npr.sample('tau', dist.HalfCauchy(5))   # this HalfCauchy may not be appropriate. Check first.\n",
    "    with npr.plate('J', J):\n",
    "        with npr.handlers.reparam(config={'theta': TransformReparam()}):\n",
    "            theta = npr.sample('theta',\n",
    "                              dist.TransformedDistribution(dist.Normal(0,1),\n",
    "                                                          dist.transforms.AffineTransform(mu, tau)))\n",
    "        npr.sample('obj', dist.Normal(theta, sigma), obs=y)"
   ]
  },
  {
   "cell_type": "code",
   "execution_count": 13,
   "id": "desperate-packing",
   "metadata": {},
   "outputs": [
    {
     "name": "stderr",
     "output_type": "stream",
     "text": [
      "sample: 100%|██████████| 3000/3000 [00:07<00:00, 417.74it/s, 7 steps of size 4.09e-01. acc. prob=0.91] "
     ]
    },
    {
     "name": "stdout",
     "output_type": "stream",
     "text": [
      "\n",
      "                   mean       std    median      5.0%     95.0%     n_eff     r_hat\n",
      "           mu      4.37      3.39      4.38     -0.92     10.14   1595.67      1.00\n",
      "          tau      3.76      3.59      2.74      0.01      8.13   1150.29      1.00\n",
      "theta_base[0]      0.32      0.98      0.33     -1.30      1.90   1319.11      1.00\n",
      "theta_base[1]      0.12      0.93      0.13     -1.39      1.63   2200.80      1.00\n",
      "theta_base[2]     -0.07      0.96     -0.10     -1.65      1.48   1320.89      1.00\n",
      "theta_base[3]      0.09      0.94      0.09     -1.35      1.74   1887.54      1.00\n",
      "theta_base[4]     -0.19      0.95     -0.21     -1.78      1.32   2137.79      1.00\n",
      "theta_base[5]     -0.07      0.95     -0.08     -1.71      1.41   1640.70      1.00\n",
      "theta_base[6]      0.34      0.95      0.33     -1.08      1.98   1175.54      1.00\n",
      "theta_base[7]      0.11      0.96      0.11     -1.56      1.54   1935.12      1.00\n",
      "\n",
      "Number of divergences: 0\n"
     ]
    },
    {
     "name": "stderr",
     "output_type": "stream",
     "text": [
      "\n"
     ]
    }
   ],
   "source": [
    "mcmc = MCMC(NUTS(eight_schools_noncentered), num_warmup=1000, num_samples=2000)\n",
    "\n",
    "data = dict(J=J, sigma=sigma, y=y)\n",
    "mcmc.run(random.PRNGKey(0), \n",
    "         **data, \n",
    "         extra_fields=('potential_energy',))\n",
    "\n",
    "mcmc.print_summary()"
   ]
  },
  {
   "cell_type": "code",
   "execution_count": 14,
   "id": "sealed-irrigation",
   "metadata": {},
   "outputs": [
    {
     "name": "stdout",
     "output_type": "stream",
     "text": [
      "Expected log joint density =  -46.208366\n"
     ]
    }
   ],
   "source": [
    "pe = mcmc.get_extra_fields()\n",
    "print('Expected log joint density = ', -pe['potential_energy'].mean())"
   ]
  },
  {
   "cell_type": "markdown",
   "id": "about-cradle",
   "metadata": {},
   "source": [
    "### LocScaleReparam\n",
    "For the class of distributions with loc,scale paramaters such as Normal, Cauchy, StudentT, we also provide a `LocScaleReparam` reparameterizer to achieve the same purpose."
   ]
  },
  {
   "cell_type": "code",
   "execution_count": 17,
   "id": "compact-alpha",
   "metadata": {},
   "outputs": [],
   "source": [
    "from numpyro.infer.reparam import LocScaleReparam\n",
    "\n",
    "def eight_schools_noncentered(J, sigma, y=None):\n",
    "    mu = npr.sample('mu', dist.Normal(0,5))\n",
    "    tau = npr.sample('tau', dist.HalfCauchy(5))\n",
    "    with npr.plate('J', J):\n",
    "        with npr.handlers.reparam(config={'theta': LocScaleReparam()}):\n",
    "            theta = npr.sample('theta',\n",
    "                               dist.Normal(mu, tau))\n",
    "        npr.sample('obj', dist.Normal(theta, sigma), obs=y)"
   ]
  },
  {
   "cell_type": "code",
   "execution_count": 18,
   "id": "competent-airplane",
   "metadata": {},
   "outputs": [
    {
     "name": "stderr",
     "output_type": "stream",
     "text": [
      "sample: 100%|██████████| 3000/3000 [00:07<00:00, 418.48it/s, 15 steps of size 3.21e-01. acc. prob=0.75]\n"
     ]
    },
    {
     "name": "stdout",
     "output_type": "stream",
     "text": [
      "\n",
      "                         mean       std    median      5.0%     95.0%     n_eff     r_hat\n",
      "                 mu      4.57      3.28      4.75     -0.85      9.60    290.21      1.00\n",
      "                tau      3.71      3.26      2.78      0.39      7.59    353.67      1.00\n",
      "theta_decentered[0]      3.08      2.30      3.02     -0.95      6.60    493.34      1.00\n",
      "theta_decentered[1]      2.50      2.18      2.54     -0.91      6.02    439.21      1.00\n",
      "theta_decentered[2]      2.07      2.39      2.16     -1.47      6.25    444.07      1.00\n",
      "theta_decentered[3]      2.42      2.23      2.44     -0.99      6.26    384.89      1.00\n",
      "theta_decentered[4]      1.92      2.19      1.96     -1.49      5.71    455.05      1.00\n",
      "theta_decentered[5]      2.15      2.21      2.32     -1.38      5.63    428.01      1.00\n",
      "theta_decentered[6]      3.07      2.15      3.14     -0.44      6.43    505.45      1.00\n",
      "theta_decentered[7]      2.43      2.35      2.56     -1.21      6.27    406.91      1.00\n",
      "\n",
      "Number of divergences: 92\n"
     ]
    }
   ],
   "source": [
    "mcmc = MCMC(NUTS(eight_schools_noncentered), num_warmup=1000, num_samples=2000)\n",
    "\n",
    "data = dict(J=J, sigma=sigma, y=y)\n",
    "mcmc.run(random.PRNGKey(0), \n",
    "         **data, \n",
    "         extra_fields=('potential_energy',))\n",
    "\n",
    "mcmc.print_summary()"
   ]
  },
  {
   "cell_type": "code",
   "execution_count": 19,
   "id": "registered-flashing",
   "metadata": {},
   "outputs": [
    {
     "name": "stdout",
     "output_type": "stream",
     "text": [
      "Expected log joint density =  -49.750336\n"
     ]
    }
   ],
   "source": [
    "pe = mcmc.get_extra_fields()\n",
    "print('Expected log joint density = ', -pe['potential_energy'].mean())"
   ]
  },
  {
   "cell_type": "markdown",
   "id": "individual-jerusalem",
   "metadata": {},
   "source": [
    "### Just make explicit transform"
   ]
  },
  {
   "cell_type": "code",
   "execution_count": 17,
   "id": "verified-melissa",
   "metadata": {},
   "outputs": [],
   "source": [
    "from numpyro.infer.reparam import LocScaleReparam\n",
    "\n",
    "def eight_schools_noncentered(J, sigma, y=None):\n",
    "    mu = npr.sample('mu', dist.Normal(0,5))\n",
    "    tau = npr.sample('tau', dist.HalfCauchy(5))\n",
    "    with npr.plate('J', J):\n",
    "        theta = npr.sample('theta',  dist.Normal(mu, tau))\n",
    "        npr.sample('obj', dist.Normal(theta, sigma), obs=y)"
   ]
  },
  {
   "cell_type": "code",
   "execution_count": 18,
   "id": "republican-cigarette",
   "metadata": {},
   "outputs": [
    {
     "name": "stderr",
     "output_type": "stream",
     "text": [
      "sample: 100%|██████████| 3000/3000 [00:07<00:00, 418.48it/s, 15 steps of size 3.21e-01. acc. prob=0.75]\n"
     ]
    },
    {
     "name": "stdout",
     "output_type": "stream",
     "text": [
      "\n",
      "                         mean       std    median      5.0%     95.0%     n_eff     r_hat\n",
      "                 mu      4.57      3.28      4.75     -0.85      9.60    290.21      1.00\n",
      "                tau      3.71      3.26      2.78      0.39      7.59    353.67      1.00\n",
      "theta_decentered[0]      3.08      2.30      3.02     -0.95      6.60    493.34      1.00\n",
      "theta_decentered[1]      2.50      2.18      2.54     -0.91      6.02    439.21      1.00\n",
      "theta_decentered[2]      2.07      2.39      2.16     -1.47      6.25    444.07      1.00\n",
      "theta_decentered[3]      2.42      2.23      2.44     -0.99      6.26    384.89      1.00\n",
      "theta_decentered[4]      1.92      2.19      1.96     -1.49      5.71    455.05      1.00\n",
      "theta_decentered[5]      2.15      2.21      2.32     -1.38      5.63    428.01      1.00\n",
      "theta_decentered[6]      3.07      2.15      3.14     -0.44      6.43    505.45      1.00\n",
      "theta_decentered[7]      2.43      2.35      2.56     -1.21      6.27    406.91      1.00\n",
      "\n",
      "Number of divergences: 92\n"
     ]
    }
   ],
   "source": [
    "mcmc = MCMC(NUTS(eight_schools_noncentered), num_warmup=1000, num_samples=2000)\n",
    "\n",
    "data = dict(J=J, sigma=sigma, y=y)\n",
    "mcmc.run(random.PRNGKey(0), \n",
    "         **data, \n",
    "         extra_fields=('potential_energy',))\n",
    "\n",
    "mcmc.print_summary()"
   ]
  },
  {
   "cell_type": "code",
   "execution_count": 19,
   "id": "hidden-maximum",
   "metadata": {},
   "outputs": [
    {
     "name": "stdout",
     "output_type": "stream",
     "text": [
      "Expected log joint density =  -49.750336\n"
     ]
    }
   ],
   "source": [
    "pe = mcmc.get_extra_fields()\n",
    "print('Expected log joint density = ', -pe['potential_energy'].mean())"
   ]
  },
  {
   "cell_type": "markdown",
   "id": "charming-medium",
   "metadata": {},
   "source": [
    "## Prediction from test data"
   ]
  },
  {
   "cell_type": "code",
   "execution_count": 21,
   "id": "marked-summary",
   "metadata": {},
   "outputs": [],
   "source": [
    "from numpyro.infer import Predictive"
   ]
  },
  {
   "cell_type": "code",
   "execution_count": 23,
   "id": "inside-audience",
   "metadata": {},
   "outputs": [],
   "source": [
    "def new_school():\n",
    "    mu = npr.sample('mu', dist.Normal(0,5))\n",
    "    tau = npr.sample('tau', dist.HalfCauchy(5))\n",
    "    return npr.sample('obs', dist.Normal(mu, tau))\n",
    "\n",
    "predictive = Predictive(new_school, mcmc.get_samples(), )\n",
    "samples_pred = predictive(random.PRNGKey(0))"
   ]
  },
  {
   "cell_type": "code",
   "execution_count": 27,
   "id": "administrative-treasure",
   "metadata": {},
   "outputs": [
    {
     "data": {
      "text/plain": [
       "[<matplotlib.lines.Line2D at 0x7fc870735520>]"
      ]
     },
     "execution_count": 27,
     "metadata": {},
     "output_type": "execute_result"
    },
    {
     "data": {
      "image/png": "[encoded data removed]",
      "text/plain": [
       "<Figure size 432x288 with 1 Axes>"
      ]
     },
     "metadata": {
      "needs_background": "light"
     },
     "output_type": "display_data"
    }
   ],
   "source": [
    "import matplotlib.pyplot as plt\n",
    "\n",
    "plt.plot(samples_pred['obs'])"
   ]
  },
  {
   "cell_type": "code",
   "execution_count": 30,
   "id": "third-humanitarian",
   "metadata": {},
   "outputs": [
    {
     "data": {
      "image/png": "[encoded data removed]",
      "text/plain": [
       "<Figure size 432x288 with 1 Axes>"
      ]
     },
     "metadata": {
      "needs_background": "light"
     },
     "output_type": "display_data"
    }
   ],
   "source": [
    "plt.hist(samples_pred['obs'], bins=20);"
   ]
  },
  {
   "cell_type": "code",
   "execution_count": null,
   "id": "juvenile-retail",
   "metadata": {},
   "outputs": [],
   "source": []
  },
  {
   "cell_type": "code",
   "execution_count": 41,
   "id": "molecular-series",
   "metadata": {},
   "outputs": [
    {
     "name": "stdout",
     "output_type": "stream",
     "text": [
      "[0.06211887 1.186081   0.961785   ... 6.102715   1.2160733  0.8978999 ]\n"
     ]
    }
   ],
   "source": [
    "with npr.handlers.seed(rng_seed=0):\n",
    "    x = npr.sample('x', dist.HalfCauchy(1), sample_shape=(10000,))\n",
    "    print(x)"
   ]
  },
  {
   "cell_type": "code",
   "execution_count": 50,
   "id": "floating-italic",
   "metadata": {},
   "outputs": [
    {
     "data": {
      "image/png": "[encoded data removed]",
      "text/plain": [
       "<Figure size 432x288 with 1 Axes>"
      ]
     },
     "metadata": {
      "needs_background": "light"
     },
     "output_type": "display_data"
    }
   ],
   "source": [
    "plt.hist(x,bins=100, range=[0, .001]);"
   ]
  },
  {
   "cell_type": "code",
   "execution_count": null,
   "id": "separate-width",
   "metadata": {},
   "outputs": [],
   "source": []
  }
 ],
 "metadata": {
  "kernelspec": {
   "display_name": "Python 3",
   "language": "python",
   "name": "python3"
  },
  "language_info": {
   "codemirror_mode": {
    "name": "ipython",
    "version": 3
   },
   "file_extension": ".py",
   "mimetype": "text/x-python",
   "name": "python",
   "nbconvert_exporter": "python",
   "pygments_lexer": "ipython3",
   "version": "3.8.0"
  },
  "toc-autonumbering": true
 },
 "nbformat": 4,
 "nbformat_minor": 5
}
